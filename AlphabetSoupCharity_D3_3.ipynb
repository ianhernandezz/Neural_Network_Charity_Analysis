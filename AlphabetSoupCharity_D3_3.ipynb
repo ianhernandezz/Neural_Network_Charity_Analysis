{
 "cells": [
  {
   "cell_type": "markdown",
   "metadata": {},
   "source": [
    "### Deliverable 1: Preprocessing the Data for a Neural Network"
   ]
  },
  {
   "cell_type": "code",
   "execution_count": 1,
   "metadata": {},
   "outputs": [
    {
     "data": {
      "text/html": [
       "<div>\n",
       "<style scoped>\n",
       "    .dataframe tbody tr th:only-of-type {\n",
       "        vertical-align: middle;\n",
       "    }\n",
       "\n",
       "    .dataframe tbody tr th {\n",
       "        vertical-align: top;\n",
       "    }\n",
       "\n",
       "    .dataframe thead th {\n",
       "        text-align: right;\n",
       "    }\n",
       "</style>\n",
       "<table border=\"1\" class=\"dataframe\">\n",
       "  <thead>\n",
       "    <tr style=\"text-align: right;\">\n",
       "      <th></th>\n",
       "      <th>EIN</th>\n",
       "      <th>NAME</th>\n",
       "      <th>APPLICATION_TYPE</th>\n",
       "      <th>AFFILIATION</th>\n",
       "      <th>CLASSIFICATION</th>\n",
       "      <th>USE_CASE</th>\n",
       "      <th>ORGANIZATION</th>\n",
       "      <th>STATUS</th>\n",
       "      <th>INCOME_AMT</th>\n",
       "      <th>SPECIAL_CONSIDERATIONS</th>\n",
       "      <th>ASK_AMT</th>\n",
       "      <th>IS_SUCCESSFUL</th>\n",
       "    </tr>\n",
       "  </thead>\n",
       "  <tbody>\n",
       "    <tr>\n",
       "      <th>0</th>\n",
       "      <td>10520599</td>\n",
       "      <td>BLUE KNIGHTS MOTORCYCLE CLUB</td>\n",
       "      <td>T10</td>\n",
       "      <td>Independent</td>\n",
       "      <td>C1000</td>\n",
       "      <td>ProductDev</td>\n",
       "      <td>Association</td>\n",
       "      <td>1</td>\n",
       "      <td>0</td>\n",
       "      <td>N</td>\n",
       "      <td>5000</td>\n",
       "      <td>1</td>\n",
       "    </tr>\n",
       "    <tr>\n",
       "      <th>1</th>\n",
       "      <td>10531628</td>\n",
       "      <td>AMERICAN CHESAPEAKE CLUB CHARITABLE TR</td>\n",
       "      <td>T3</td>\n",
       "      <td>Independent</td>\n",
       "      <td>C2000</td>\n",
       "      <td>Preservation</td>\n",
       "      <td>Co-operative</td>\n",
       "      <td>1</td>\n",
       "      <td>1-9999</td>\n",
       "      <td>N</td>\n",
       "      <td>108590</td>\n",
       "      <td>1</td>\n",
       "    </tr>\n",
       "    <tr>\n",
       "      <th>2</th>\n",
       "      <td>10547893</td>\n",
       "      <td>ST CLOUD PROFESSIONAL FIREFIGHTERS</td>\n",
       "      <td>T5</td>\n",
       "      <td>CompanySponsored</td>\n",
       "      <td>C3000</td>\n",
       "      <td>ProductDev</td>\n",
       "      <td>Association</td>\n",
       "      <td>1</td>\n",
       "      <td>0</td>\n",
       "      <td>N</td>\n",
       "      <td>5000</td>\n",
       "      <td>0</td>\n",
       "    </tr>\n",
       "    <tr>\n",
       "      <th>3</th>\n",
       "      <td>10553066</td>\n",
       "      <td>SOUTHSIDE ATHLETIC ASSOCIATION</td>\n",
       "      <td>T3</td>\n",
       "      <td>CompanySponsored</td>\n",
       "      <td>C2000</td>\n",
       "      <td>Preservation</td>\n",
       "      <td>Trust</td>\n",
       "      <td>1</td>\n",
       "      <td>10000-24999</td>\n",
       "      <td>N</td>\n",
       "      <td>6692</td>\n",
       "      <td>1</td>\n",
       "    </tr>\n",
       "    <tr>\n",
       "      <th>4</th>\n",
       "      <td>10556103</td>\n",
       "      <td>GENETIC RESEARCH INSTITUTE OF THE DESERT</td>\n",
       "      <td>T3</td>\n",
       "      <td>Independent</td>\n",
       "      <td>C1000</td>\n",
       "      <td>Heathcare</td>\n",
       "      <td>Trust</td>\n",
       "      <td>1</td>\n",
       "      <td>100000-499999</td>\n",
       "      <td>N</td>\n",
       "      <td>142590</td>\n",
       "      <td>1</td>\n",
       "    </tr>\n",
       "  </tbody>\n",
       "</table>\n",
       "</div>"
      ],
      "text/plain": [
       "        EIN                                      NAME APPLICATION_TYPE  \\\n",
       "0  10520599              BLUE KNIGHTS MOTORCYCLE CLUB              T10   \n",
       "1  10531628    AMERICAN CHESAPEAKE CLUB CHARITABLE TR               T3   \n",
       "2  10547893        ST CLOUD PROFESSIONAL FIREFIGHTERS               T5   \n",
       "3  10553066            SOUTHSIDE ATHLETIC ASSOCIATION               T3   \n",
       "4  10556103  GENETIC RESEARCH INSTITUTE OF THE DESERT               T3   \n",
       "\n",
       "        AFFILIATION CLASSIFICATION      USE_CASE  ORGANIZATION  STATUS  \\\n",
       "0       Independent          C1000    ProductDev   Association       1   \n",
       "1       Independent          C2000  Preservation  Co-operative       1   \n",
       "2  CompanySponsored          C3000    ProductDev   Association       1   \n",
       "3  CompanySponsored          C2000  Preservation         Trust       1   \n",
       "4       Independent          C1000     Heathcare         Trust       1   \n",
       "\n",
       "      INCOME_AMT SPECIAL_CONSIDERATIONS  ASK_AMT  IS_SUCCESSFUL  \n",
       "0              0                      N     5000              1  \n",
       "1         1-9999                      N   108590              1  \n",
       "2              0                      N     5000              0  \n",
       "3    10000-24999                      N     6692              1  \n",
       "4  100000-499999                      N   142590              1  "
      ]
     },
     "execution_count": 1,
     "metadata": {},
     "output_type": "execute_result"
    }
   ],
   "source": [
    "# Import our dependencies\n",
    "from sklearn.model_selection import train_test_split\n",
    "from sklearn.preprocessing import StandardScaler,OneHotEncoder\n",
    "import pandas as pd\n",
    "import tensorflow as tf\n",
    "\n",
    "# additional dependencies\n",
    "import matplotlib.pyplot as plt\n",
    "import seaborn as sns\n",
    "sns.set_theme(style=\"darkgrid\")\n",
    "\n",
    "#  Import and read the charity_data.csv.\n",
    "import pandas as pd \n",
    "application_df = pd.read_csv(\"./Data/charity_data.csv\")\n",
    "application_df.head()"
   ]
  },
  {
   "cell_type": "code",
   "execution_count": 2,
   "metadata": {},
   "outputs": [
    {
     "name": "stdout",
     "output_type": "stream",
     "text": [
      "<class 'pandas.core.frame.DataFrame'>\n",
      "RangeIndex: 34299 entries, 0 to 34298\n",
      "Data columns (total 12 columns):\n",
      " #   Column                  Non-Null Count  Dtype \n",
      "---  ------                  --------------  ----- \n",
      " 0   EIN                     34299 non-null  int64 \n",
      " 1   NAME                    34299 non-null  object\n",
      " 2   APPLICATION_TYPE        34299 non-null  object\n",
      " 3   AFFILIATION             34299 non-null  object\n",
      " 4   CLASSIFICATION          34299 non-null  object\n",
      " 5   USE_CASE                34299 non-null  object\n",
      " 6   ORGANIZATION            34299 non-null  object\n",
      " 7   STATUS                  34299 non-null  int64 \n",
      " 8   INCOME_AMT              34299 non-null  object\n",
      " 9   SPECIAL_CONSIDERATIONS  34299 non-null  object\n",
      " 10  ASK_AMT                 34299 non-null  int64 \n",
      " 11  IS_SUCCESSFUL           34299 non-null  int64 \n",
      "dtypes: int64(4), object(8)\n",
      "memory usage: 3.1+ MB\n"
     ]
    }
   ],
   "source": [
    "# look at data types \n",
    "application_df.info()"
   ]
  },
  {
   "cell_type": "code",
   "execution_count": 3,
   "metadata": {},
   "outputs": [
    {
     "name": "stdout",
     "output_type": "stream",
     "text": [
      "<class 'pandas.core.frame.DataFrame'>\n",
      "RangeIndex: 34299 entries, 0 to 34298\n",
      "Data columns (total 10 columns):\n",
      " #   Column                  Non-Null Count  Dtype \n",
      "---  ------                  --------------  ----- \n",
      " 0   APPLICATION_TYPE        34299 non-null  object\n",
      " 1   AFFILIATION             34299 non-null  object\n",
      " 2   CLASSIFICATION          34299 non-null  object\n",
      " 3   USE_CASE                34299 non-null  object\n",
      " 4   ORGANIZATION            34299 non-null  object\n",
      " 5   STATUS                  34299 non-null  int64 \n",
      " 6   INCOME_AMT              34299 non-null  object\n",
      " 7   SPECIAL_CONSIDERATIONS  34299 non-null  object\n",
      " 8   ASK_AMT                 34299 non-null  int64 \n",
      " 9   IS_SUCCESSFUL           34299 non-null  int64 \n",
      "dtypes: int64(3), object(7)\n",
      "memory usage: 2.6+ MB\n"
     ]
    }
   ],
   "source": [
    "# Drop the non-beneficial ID columns, 'EIN' and 'NAME'.\n",
    "application_df = application_df.drop(columns=[\"EIN\", \"NAME\"], axis=1)\n",
    "application_df.info()"
   ]
  },
  {
   "cell_type": "code",
   "execution_count": 4,
   "metadata": {},
   "outputs": [
    {
     "data": {
      "text/plain": [
       "(34299, 10)"
      ]
     },
     "execution_count": 4,
     "metadata": {},
     "output_type": "execute_result"
    }
   ],
   "source": [
    "# check shape\n",
    "application_df.shape"
   ]
  },
  {
   "cell_type": "code",
   "execution_count": 5,
   "metadata": {},
   "outputs": [
    {
     "data": {
      "text/plain": [
       "APPLICATION_TYPE            17\n",
       "AFFILIATION                  6\n",
       "CLASSIFICATION              71\n",
       "USE_CASE                     5\n",
       "ORGANIZATION                 4\n",
       "STATUS                       2\n",
       "INCOME_AMT                   9\n",
       "SPECIAL_CONSIDERATIONS       2\n",
       "ASK_AMT                   8747\n",
       "IS_SUCCESSFUL                2\n",
       "dtype: int64"
      ]
     },
     "execution_count": 5,
     "metadata": {},
     "output_type": "execute_result"
    }
   ],
   "source": [
    "# Determine the number of unique values in each column.\n",
    "application_df.nunique()"
   ]
  },
  {
   "cell_type": "code",
   "execution_count": 6,
   "metadata": {},
   "outputs": [
    {
     "data": {
      "text/plain": [
       "T3     27037\n",
       "T4      1542\n",
       "T6      1216\n",
       "T5      1173\n",
       "T19     1065\n",
       "T8       737\n",
       "T7       725\n",
       "T10      528\n",
       "T9       156\n",
       "T13       66\n",
       "T12       27\n",
       "T2        16\n",
       "T25        3\n",
       "T14        3\n",
       "T29        2\n",
       "T15        2\n",
       "T17        1\n",
       "Name: APPLICATION_TYPE, dtype: int64"
      ]
     },
     "execution_count": 6,
     "metadata": {},
     "output_type": "execute_result"
    }
   ],
   "source": [
    "# Look at APPLICATION_TYPE value counts for binning\n",
    "application_counts = application_df[\"APPLICATION_TYPE\"].value_counts()\n",
    "application_counts"
   ]
  },
  {
   "cell_type": "code",
   "execution_count": 7,
   "metadata": {},
   "outputs": [
    {
     "data": {
      "text/plain": [
       "<AxesSubplot:ylabel='Density'>"
      ]
     },
     "execution_count": 7,
     "metadata": {},
     "output_type": "execute_result"
    },
    {
     "data": {
      "image/png": "[encoded data removed]",
      "text/plain": [
       "<Figure size 432x288 with 1 Axes>"
      ]
     },
     "metadata": {},
     "output_type": "display_data"
    }
   ],
   "source": [
    "# Visualize the value counts of APPLICATION_TYPE\n",
    "application_counts.plot.density()"
   ]
  },
  {
   "cell_type": "code",
   "execution_count": 8,
   "metadata": {},
   "outputs": [
    {
     "data": {
      "text/plain": [
       "T9     156\n",
       "T13     66\n",
       "T12     27\n",
       "T2      16\n",
       "T25      3\n",
       "T14      3\n",
       "T29      2\n",
       "T15      2\n",
       "T17      1\n",
       "Name: APPLICATION_TYPE, dtype: int64"
      ]
     },
     "execution_count": 8,
     "metadata": {},
     "output_type": "execute_result"
    }
   ],
   "source": [
    "application_counts[application_counts < 500]"
   ]
  },
  {
   "cell_type": "code",
   "execution_count": 9,
   "metadata": {},
   "outputs": [
    {
     "data": {
      "text/plain": [
       "['T9', 'T13', 'T12', 'T2', 'T25', 'T14', 'T29', 'T15', 'T17']"
      ]
     },
     "execution_count": 9,
     "metadata": {},
     "output_type": "execute_result"
    }
   ],
   "source": [
    "list(application_counts[application_counts < 500].index)"
   ]
  },
  {
   "cell_type": "code",
   "execution_count": 10,
   "metadata": {},
   "outputs": [],
   "source": [
    "replace_application = list(application_counts[application_counts < 500].index)"
   ]
  },
  {
   "cell_type": "code",
   "execution_count": 11,
   "metadata": {},
   "outputs": [
    {
     "data": {
      "text/plain": [
       "T3       27037\n",
       "T4        1542\n",
       "T6        1216\n",
       "T5        1173\n",
       "T19       1065\n",
       "T8         737\n",
       "T7         725\n",
       "T10        528\n",
       "Other      276\n",
       "Name: APPLICATION_TYPE, dtype: int64"
      ]
     },
     "execution_count": 11,
     "metadata": {},
     "output_type": "execute_result"
    }
   ],
   "source": [
    "# Determine which values to replace if counts are less than ...?\n",
    "replace_application = list(application_counts[application_counts < 500].index)\n",
    "\n",
    "# Replace in dataframe\n",
    "for app in replace_application:\n",
    "    application_df[\"APPLICATION_TYPE\"] = application_df.APPLICATION_TYPE.replace(app,\"Other\")\n",
    "    \n",
    "# Check to make sure binning was successful\n",
    "application_df.APPLICATION_TYPE.value_counts()"
   ]
  },
  {
   "cell_type": "code",
   "execution_count": 12,
   "metadata": {},
   "outputs": [
    {
     "data": {
      "text/plain": [
       "C1000    17326\n",
       "C2000     6074\n",
       "C1200     4837\n",
       "C3000     1918\n",
       "C2100     1883\n",
       "         ...  \n",
       "C4120        1\n",
       "C8210        1\n",
       "C2561        1\n",
       "C4500        1\n",
       "C2150        1\n",
       "Name: CLASSIFICATION, Length: 71, dtype: int64"
      ]
     },
     "execution_count": 12,
     "metadata": {},
     "output_type": "execute_result"
    }
   ],
   "source": [
    "# Look at CLASSIFICATION value counts for binning\n",
    "class_counts = application_df[\"CLASSIFICATION\"].value_counts()\n",
    "class_counts"
   ]
  },
  {
   "cell_type": "code",
   "execution_count": 13,
   "metadata": {},
   "outputs": [
    {
     "data": {
      "text/plain": [
       "<AxesSubplot:ylabel='Density'>"
      ]
     },
     "execution_count": 13,
     "metadata": {},
     "output_type": "execute_result"
    },
    {
     "data": {
      "image/png": "[encoded data removed]",
      "text/plain": [
       "<Figure size 432x288 with 1 Axes>"
      ]
     },
     "metadata": {},
     "output_type": "display_data"
    }
   ],
   "source": [
    "# Visualize the value counts of CLASSIFICATION\n",
    "# application_counts.plot.density()\n",
    "class_counts.plot.density()"
   ]
  },
  {
   "cell_type": "code",
   "execution_count": 14,
   "metadata": {},
   "outputs": [
    {
     "data": {
      "text/plain": [
       "C1000    False\n",
       "C2000    False\n",
       "C1200    False\n",
       "C3000    False\n",
       "C2100    False\n",
       "         ...  \n",
       "C4120     True\n",
       "C8210     True\n",
       "C2561     True\n",
       "C4500     True\n",
       "C2150     True\n",
       "Name: CLASSIFICATION, Length: 71, dtype: bool"
      ]
     },
     "execution_count": 14,
     "metadata": {},
     "output_type": "execute_result"
    }
   ],
   "source": [
    "class_counts < 1000"
   ]
  },
  {
   "cell_type": "code",
   "execution_count": 15,
   "metadata": {},
   "outputs": [
    {
     "data": {
      "text/plain": [
       "['C7000',\n",
       " 'C1700',\n",
       " 'C4000',\n",
       " 'C5000',\n",
       " 'C1270',\n",
       " 'C2700',\n",
       " 'C2800',\n",
       " 'C7100',\n",
       " 'C1300',\n",
       " 'C1280',\n",
       " 'C1230',\n",
       " 'C1400',\n",
       " 'C7200',\n",
       " 'C2300',\n",
       " 'C1240',\n",
       " 'C8000',\n",
       " 'C7120',\n",
       " 'C1500',\n",
       " 'C1800',\n",
       " 'C6000',\n",
       " 'C1250',\n",
       " 'C8200',\n",
       " 'C1238',\n",
       " 'C1278',\n",
       " 'C1235',\n",
       " 'C1237',\n",
       " 'C7210',\n",
       " 'C2400',\n",
       " 'C1720',\n",
       " 'C4100',\n",
       " 'C1257',\n",
       " 'C1600',\n",
       " 'C1260',\n",
       " 'C2710',\n",
       " 'C0',\n",
       " 'C3200',\n",
       " 'C1234',\n",
       " 'C1246',\n",
       " 'C1267',\n",
       " 'C1256',\n",
       " 'C2190',\n",
       " 'C4200',\n",
       " 'C2600',\n",
       " 'C5200',\n",
       " 'C1370',\n",
       " 'C1248',\n",
       " 'C6100',\n",
       " 'C1820',\n",
       " 'C1900',\n",
       " 'C1236',\n",
       " 'C3700',\n",
       " 'C2570',\n",
       " 'C1580',\n",
       " 'C1245',\n",
       " 'C2500',\n",
       " 'C1570',\n",
       " 'C1283',\n",
       " 'C2380',\n",
       " 'C1732',\n",
       " 'C1728',\n",
       " 'C2170',\n",
       " 'C4120',\n",
       " 'C8210',\n",
       " 'C2561',\n",
       " 'C4500',\n",
       " 'C2150']"
      ]
     },
     "execution_count": 15,
     "metadata": {},
     "output_type": "execute_result"
    }
   ],
   "source": [
    "list(class_counts[class_counts < 1000].index)"
   ]
  },
  {
   "cell_type": "code",
   "execution_count": 16,
   "metadata": {},
   "outputs": [
    {
     "data": {
      "text/plain": [
       "C1000    17326\n",
       "C2000     6074\n",
       "C1200     4837\n",
       "Other     2261\n",
       "C3000     1918\n",
       "C2100     1883\n",
       "Name: CLASSIFICATION, dtype: int64"
      ]
     },
     "execution_count": 16,
     "metadata": {},
     "output_type": "execute_result"
    }
   ],
   "source": [
    "# Determine which values to replace if counts are less than ..?\n",
    "replace_class = list(class_counts[class_counts < 1000].index)\n",
    "# Replace in dataframe\n",
    "for cls in replace_class:\n",
    "    application_df.CLASSIFICATION = application_df.CLASSIFICATION.replace(cls,\"Other\")\n",
    "    \n",
    "# Check to make sure binning was successful\n",
    "application_df.CLASSIFICATION.value_counts()"
   ]
  },
  {
   "cell_type": "code",
   "execution_count": 17,
   "metadata": {},
   "outputs": [
    {
     "data": {
      "text/plain": [
       "APPLICATION_TYPE             9\n",
       "AFFILIATION                  6\n",
       "CLASSIFICATION               6\n",
       "USE_CASE                     5\n",
       "ORGANIZATION                 4\n",
       "STATUS                       2\n",
       "INCOME_AMT                   9\n",
       "SPECIAL_CONSIDERATIONS       2\n",
       "ASK_AMT                   8747\n",
       "IS_SUCCESSFUL                2\n",
       "dtype: int64"
      ]
     },
     "execution_count": 17,
     "metadata": {},
     "output_type": "execute_result"
    }
   ],
   "source": [
    "application_df.nunique()"
   ]
  },
  {
   "cell_type": "code",
   "execution_count": 18,
   "metadata": {},
   "outputs": [
    {
     "name": "stdout",
     "output_type": "stream",
     "text": [
      "<class 'pandas.core.frame.DataFrame'>\n",
      "RangeIndex: 34299 entries, 0 to 34298\n",
      "Data columns (total 10 columns):\n",
      " #   Column                  Non-Null Count  Dtype \n",
      "---  ------                  --------------  ----- \n",
      " 0   APPLICATION_TYPE        34299 non-null  object\n",
      " 1   AFFILIATION             34299 non-null  object\n",
      " 2   CLASSIFICATION          34299 non-null  object\n",
      " 3   USE_CASE                34299 non-null  object\n",
      " 4   ORGANIZATION            34299 non-null  object\n",
      " 5   STATUS                  34299 non-null  int64 \n",
      " 6   INCOME_AMT              34299 non-null  object\n",
      " 7   SPECIAL_CONSIDERATIONS  34299 non-null  object\n",
      " 8   ASK_AMT                 34299 non-null  int64 \n",
      " 9   IS_SUCCESSFUL           34299 non-null  int64 \n",
      "dtypes: int64(3), object(7)\n",
      "memory usage: 2.6+ MB\n"
     ]
    }
   ],
   "source": [
    "application_df.info()"
   ]
  },
  {
   "cell_type": "code",
   "execution_count": 19,
   "metadata": {},
   "outputs": [
    {
     "data": {
      "text/plain": [
       "APPLICATION_TYPE          object\n",
       "AFFILIATION               object\n",
       "CLASSIFICATION            object\n",
       "USE_CASE                  object\n",
       "ORGANIZATION              object\n",
       "STATUS                     int64\n",
       "INCOME_AMT                object\n",
       "SPECIAL_CONSIDERATIONS    object\n",
       "ASK_AMT                    int64\n",
       "IS_SUCCESSFUL              int64\n",
       "dtype: object"
      ]
     },
     "execution_count": 19,
     "metadata": {},
     "output_type": "execute_result"
    }
   ],
   "source": [
    "application_df.dtypes"
   ]
  },
  {
   "cell_type": "code",
   "execution_count": 20,
   "metadata": {},
   "outputs": [
    {
     "data": {
      "text/plain": [
       "[APPLICATION_TYPE           True\n",
       " AFFILIATION                True\n",
       " CLASSIFICATION             True\n",
       " USE_CASE                   True\n",
       " ORGANIZATION               True\n",
       " STATUS                    False\n",
       " INCOME_AMT                 True\n",
       " SPECIAL_CONSIDERATIONS     True\n",
       " ASK_AMT                   False\n",
       " IS_SUCCESSFUL             False\n",
       " dtype: bool]"
      ]
     },
     "execution_count": 20,
     "metadata": {},
     "output_type": "execute_result"
    }
   ],
   "source": [
    "[application_df.dtypes == \"object\"]"
   ]
  },
  {
   "cell_type": "code",
   "execution_count": 21,
   "metadata": {},
   "outputs": [
    {
     "data": {
      "text/plain": [
       "['APPLICATION_TYPE',\n",
       " 'AFFILIATION',\n",
       " 'CLASSIFICATION',\n",
       " 'USE_CASE',\n",
       " 'ORGANIZATION',\n",
       " 'INCOME_AMT',\n",
       " 'SPECIAL_CONSIDERATIONS']"
      ]
     },
     "execution_count": 21,
     "metadata": {},
     "output_type": "execute_result"
    }
   ],
   "source": [
    "application_df.dtypes[application_df.dtypes == \"object\"].index.tolist()"
   ]
  },
  {
   "cell_type": "code",
   "execution_count": 22,
   "metadata": {},
   "outputs": [],
   "source": [
    "# Generate our categorical variable lists\n",
    "application_cat = application_df.dtypes[application_df.dtypes == \"object\"].index.tolist()"
   ]
  },
  {
   "cell_type": "code",
   "execution_count": 23,
   "metadata": {},
   "outputs": [
    {
     "data": {
      "text/html": [
       "<div>\n",
       "<style scoped>\n",
       "    .dataframe tbody tr th:only-of-type {\n",
       "        vertical-align: middle;\n",
       "    }\n",
       "\n",
       "    .dataframe tbody tr th {\n",
       "        vertical-align: top;\n",
       "    }\n",
       "\n",
       "    .dataframe thead th {\n",
       "        text-align: right;\n",
       "    }\n",
       "</style>\n",
       "<table border=\"1\" class=\"dataframe\">\n",
       "  <thead>\n",
       "    <tr style=\"text-align: right;\">\n",
       "      <th></th>\n",
       "      <th>APPLICATION_TYPE</th>\n",
       "      <th>AFFILIATION</th>\n",
       "      <th>CLASSIFICATION</th>\n",
       "      <th>USE_CASE</th>\n",
       "      <th>ORGANIZATION</th>\n",
       "      <th>INCOME_AMT</th>\n",
       "      <th>SPECIAL_CONSIDERATIONS</th>\n",
       "    </tr>\n",
       "  </thead>\n",
       "  <tbody>\n",
       "    <tr>\n",
       "      <th>0</th>\n",
       "      <td>T10</td>\n",
       "      <td>Independent</td>\n",
       "      <td>C1000</td>\n",
       "      <td>ProductDev</td>\n",
       "      <td>Association</td>\n",
       "      <td>0</td>\n",
       "      <td>N</td>\n",
       "    </tr>\n",
       "    <tr>\n",
       "      <th>1</th>\n",
       "      <td>T3</td>\n",
       "      <td>Independent</td>\n",
       "      <td>C2000</td>\n",
       "      <td>Preservation</td>\n",
       "      <td>Co-operative</td>\n",
       "      <td>1-9999</td>\n",
       "      <td>N</td>\n",
       "    </tr>\n",
       "    <tr>\n",
       "      <th>2</th>\n",
       "      <td>T5</td>\n",
       "      <td>CompanySponsored</td>\n",
       "      <td>C3000</td>\n",
       "      <td>ProductDev</td>\n",
       "      <td>Association</td>\n",
       "      <td>0</td>\n",
       "      <td>N</td>\n",
       "    </tr>\n",
       "    <tr>\n",
       "      <th>3</th>\n",
       "      <td>T3</td>\n",
       "      <td>CompanySponsored</td>\n",
       "      <td>C2000</td>\n",
       "      <td>Preservation</td>\n",
       "      <td>Trust</td>\n",
       "      <td>10000-24999</td>\n",
       "      <td>N</td>\n",
       "    </tr>\n",
       "    <tr>\n",
       "      <th>4</th>\n",
       "      <td>T3</td>\n",
       "      <td>Independent</td>\n",
       "      <td>C1000</td>\n",
       "      <td>Heathcare</td>\n",
       "      <td>Trust</td>\n",
       "      <td>100000-499999</td>\n",
       "      <td>N</td>\n",
       "    </tr>\n",
       "    <tr>\n",
       "      <th>...</th>\n",
       "      <td>...</td>\n",
       "      <td>...</td>\n",
       "      <td>...</td>\n",
       "      <td>...</td>\n",
       "      <td>...</td>\n",
       "      <td>...</td>\n",
       "      <td>...</td>\n",
       "    </tr>\n",
       "    <tr>\n",
       "      <th>34294</th>\n",
       "      <td>T4</td>\n",
       "      <td>Independent</td>\n",
       "      <td>C1000</td>\n",
       "      <td>ProductDev</td>\n",
       "      <td>Association</td>\n",
       "      <td>0</td>\n",
       "      <td>N</td>\n",
       "    </tr>\n",
       "    <tr>\n",
       "      <th>34295</th>\n",
       "      <td>T4</td>\n",
       "      <td>CompanySponsored</td>\n",
       "      <td>C3000</td>\n",
       "      <td>ProductDev</td>\n",
       "      <td>Association</td>\n",
       "      <td>0</td>\n",
       "      <td>N</td>\n",
       "    </tr>\n",
       "    <tr>\n",
       "      <th>34296</th>\n",
       "      <td>T3</td>\n",
       "      <td>CompanySponsored</td>\n",
       "      <td>C2000</td>\n",
       "      <td>Preservation</td>\n",
       "      <td>Association</td>\n",
       "      <td>0</td>\n",
       "      <td>N</td>\n",
       "    </tr>\n",
       "    <tr>\n",
       "      <th>34297</th>\n",
       "      <td>T5</td>\n",
       "      <td>Independent</td>\n",
       "      <td>C3000</td>\n",
       "      <td>ProductDev</td>\n",
       "      <td>Association</td>\n",
       "      <td>0</td>\n",
       "      <td>N</td>\n",
       "    </tr>\n",
       "    <tr>\n",
       "      <th>34298</th>\n",
       "      <td>T3</td>\n",
       "      <td>Independent</td>\n",
       "      <td>C1000</td>\n",
       "      <td>Preservation</td>\n",
       "      <td>Co-operative</td>\n",
       "      <td>1M-5M</td>\n",
       "      <td>N</td>\n",
       "    </tr>\n",
       "  </tbody>\n",
       "</table>\n",
       "<p>34299 rows × 7 columns</p>\n",
       "</div>"
      ],
      "text/plain": [
       "      APPLICATION_TYPE       AFFILIATION CLASSIFICATION      USE_CASE  \\\n",
       "0                  T10       Independent          C1000    ProductDev   \n",
       "1                   T3       Independent          C2000  Preservation   \n",
       "2                   T5  CompanySponsored          C3000    ProductDev   \n",
       "3                   T3  CompanySponsored          C2000  Preservation   \n",
       "4                   T3       Independent          C1000     Heathcare   \n",
       "...                ...               ...            ...           ...   \n",
       "34294               T4       Independent          C1000    ProductDev   \n",
       "34295               T4  CompanySponsored          C3000    ProductDev   \n",
       "34296               T3  CompanySponsored          C2000  Preservation   \n",
       "34297               T5       Independent          C3000    ProductDev   \n",
       "34298               T3       Independent          C1000  Preservation   \n",
       "\n",
       "       ORGANIZATION     INCOME_AMT SPECIAL_CONSIDERATIONS  \n",
       "0       Association              0                      N  \n",
       "1      Co-operative         1-9999                      N  \n",
       "2       Association              0                      N  \n",
       "3             Trust    10000-24999                      N  \n",
       "4             Trust  100000-499999                      N  \n",
       "...             ...            ...                    ...  \n",
       "34294   Association              0                      N  \n",
       "34295   Association              0                      N  \n",
       "34296   Association              0                      N  \n",
       "34297   Association              0                      N  \n",
       "34298  Co-operative          1M-5M                      N  \n",
       "\n",
       "[34299 rows x 7 columns]"
      ]
     },
     "execution_count": 23,
     "metadata": {},
     "output_type": "execute_result"
    }
   ],
   "source": [
    "application_df[application_cat]"
   ]
  },
  {
   "cell_type": "code",
   "execution_count": 24,
   "metadata": {},
   "outputs": [
    {
     "name": "stderr",
     "output_type": "stream",
     "text": [
      "/Users/ianhernandez/opt/anaconda3/envs/mlenv/lib/python3.7/site-packages/sklearn/utils/deprecation.py:87: FutureWarning: Function get_feature_names is deprecated; get_feature_names is deprecated in 1.0 and will be removed in 1.2. Please use get_feature_names_out instead.\n",
      "  warnings.warn(msg, category=FutureWarning)\n"
     ]
    },
    {
     "data": {
      "text/html": [
       "<div>\n",
       "<style scoped>\n",
       "    .dataframe tbody tr th:only-of-type {\n",
       "        vertical-align: middle;\n",
       "    }\n",
       "\n",
       "    .dataframe tbody tr th {\n",
       "        vertical-align: top;\n",
       "    }\n",
       "\n",
       "    .dataframe thead th {\n",
       "        text-align: right;\n",
       "    }\n",
       "</style>\n",
       "<table border=\"1\" class=\"dataframe\">\n",
       "  <thead>\n",
       "    <tr style=\"text-align: right;\">\n",
       "      <th></th>\n",
       "      <th>APPLICATION_TYPE_Other</th>\n",
       "      <th>APPLICATION_TYPE_T10</th>\n",
       "      <th>APPLICATION_TYPE_T19</th>\n",
       "      <th>APPLICATION_TYPE_T3</th>\n",
       "      <th>APPLICATION_TYPE_T4</th>\n",
       "      <th>APPLICATION_TYPE_T5</th>\n",
       "      <th>APPLICATION_TYPE_T6</th>\n",
       "      <th>APPLICATION_TYPE_T7</th>\n",
       "      <th>APPLICATION_TYPE_T8</th>\n",
       "      <th>AFFILIATION_CompanySponsored</th>\n",
       "      <th>...</th>\n",
       "      <th>INCOME_AMT_1-9999</th>\n",
       "      <th>INCOME_AMT_10000-24999</th>\n",
       "      <th>INCOME_AMT_100000-499999</th>\n",
       "      <th>INCOME_AMT_10M-50M</th>\n",
       "      <th>INCOME_AMT_1M-5M</th>\n",
       "      <th>INCOME_AMT_25000-99999</th>\n",
       "      <th>INCOME_AMT_50M+</th>\n",
       "      <th>INCOME_AMT_5M-10M</th>\n",
       "      <th>SPECIAL_CONSIDERATIONS_N</th>\n",
       "      <th>SPECIAL_CONSIDERATIONS_Y</th>\n",
       "    </tr>\n",
       "  </thead>\n",
       "  <tbody>\n",
       "    <tr>\n",
       "      <th>0</th>\n",
       "      <td>0.0</td>\n",
       "      <td>1.0</td>\n",
       "      <td>0.0</td>\n",
       "      <td>0.0</td>\n",
       "      <td>0.0</td>\n",
       "      <td>0.0</td>\n",
       "      <td>0.0</td>\n",
       "      <td>0.0</td>\n",
       "      <td>0.0</td>\n",
       "      <td>0.0</td>\n",
       "      <td>...</td>\n",
       "      <td>0.0</td>\n",
       "      <td>0.0</td>\n",
       "      <td>0.0</td>\n",
       "      <td>0.0</td>\n",
       "      <td>0.0</td>\n",
       "      <td>0.0</td>\n",
       "      <td>0.0</td>\n",
       "      <td>0.0</td>\n",
       "      <td>1.0</td>\n",
       "      <td>0.0</td>\n",
       "    </tr>\n",
       "    <tr>\n",
       "      <th>1</th>\n",
       "      <td>0.0</td>\n",
       "      <td>0.0</td>\n",
       "      <td>0.0</td>\n",
       "      <td>1.0</td>\n",
       "      <td>0.0</td>\n",
       "      <td>0.0</td>\n",
       "      <td>0.0</td>\n",
       "      <td>0.0</td>\n",
       "      <td>0.0</td>\n",
       "      <td>0.0</td>\n",
       "      <td>...</td>\n",
       "      <td>1.0</td>\n",
       "      <td>0.0</td>\n",
       "      <td>0.0</td>\n",
       "      <td>0.0</td>\n",
       "      <td>0.0</td>\n",
       "      <td>0.0</td>\n",
       "      <td>0.0</td>\n",
       "      <td>0.0</td>\n",
       "      <td>1.0</td>\n",
       "      <td>0.0</td>\n",
       "    </tr>\n",
       "    <tr>\n",
       "      <th>2</th>\n",
       "      <td>0.0</td>\n",
       "      <td>0.0</td>\n",
       "      <td>0.0</td>\n",
       "      <td>0.0</td>\n",
       "      <td>0.0</td>\n",
       "      <td>1.0</td>\n",
       "      <td>0.0</td>\n",
       "      <td>0.0</td>\n",
       "      <td>0.0</td>\n",
       "      <td>1.0</td>\n",
       "      <td>...</td>\n",
       "      <td>0.0</td>\n",
       "      <td>0.0</td>\n",
       "      <td>0.0</td>\n",
       "      <td>0.0</td>\n",
       "      <td>0.0</td>\n",
       "      <td>0.0</td>\n",
       "      <td>0.0</td>\n",
       "      <td>0.0</td>\n",
       "      <td>1.0</td>\n",
       "      <td>0.0</td>\n",
       "    </tr>\n",
       "    <tr>\n",
       "      <th>3</th>\n",
       "      <td>0.0</td>\n",
       "      <td>0.0</td>\n",
       "      <td>0.0</td>\n",
       "      <td>1.0</td>\n",
       "      <td>0.0</td>\n",
       "      <td>0.0</td>\n",
       "      <td>0.0</td>\n",
       "      <td>0.0</td>\n",
       "      <td>0.0</td>\n",
       "      <td>1.0</td>\n",
       "      <td>...</td>\n",
       "      <td>0.0</td>\n",
       "      <td>1.0</td>\n",
       "      <td>0.0</td>\n",
       "      <td>0.0</td>\n",
       "      <td>0.0</td>\n",
       "      <td>0.0</td>\n",
       "      <td>0.0</td>\n",
       "      <td>0.0</td>\n",
       "      <td>1.0</td>\n",
       "      <td>0.0</td>\n",
       "    </tr>\n",
       "    <tr>\n",
       "      <th>4</th>\n",
       "      <td>0.0</td>\n",
       "      <td>0.0</td>\n",
       "      <td>0.0</td>\n",
       "      <td>1.0</td>\n",
       "      <td>0.0</td>\n",
       "      <td>0.0</td>\n",
       "      <td>0.0</td>\n",
       "      <td>0.0</td>\n",
       "      <td>0.0</td>\n",
       "      <td>0.0</td>\n",
       "      <td>...</td>\n",
       "      <td>0.0</td>\n",
       "      <td>0.0</td>\n",
       "      <td>1.0</td>\n",
       "      <td>0.0</td>\n",
       "      <td>0.0</td>\n",
       "      <td>0.0</td>\n",
       "      <td>0.0</td>\n",
       "      <td>0.0</td>\n",
       "      <td>1.0</td>\n",
       "      <td>0.0</td>\n",
       "    </tr>\n",
       "  </tbody>\n",
       "</table>\n",
       "<p>5 rows × 41 columns</p>\n",
       "</div>"
      ],
      "text/plain": [
       "   APPLICATION_TYPE_Other  APPLICATION_TYPE_T10  APPLICATION_TYPE_T19  \\\n",
       "0                     0.0                   1.0                   0.0   \n",
       "1                     0.0                   0.0                   0.0   \n",
       "2                     0.0                   0.0                   0.0   \n",
       "3                     0.0                   0.0                   0.0   \n",
       "4                     0.0                   0.0                   0.0   \n",
       "\n",
       "   APPLICATION_TYPE_T3  APPLICATION_TYPE_T4  APPLICATION_TYPE_T5  \\\n",
       "0                  0.0                  0.0                  0.0   \n",
       "1                  1.0                  0.0                  0.0   \n",
       "2                  0.0                  0.0                  1.0   \n",
       "3                  1.0                  0.0                  0.0   \n",
       "4                  1.0                  0.0                  0.0   \n",
       "\n",
       "   APPLICATION_TYPE_T6  APPLICATION_TYPE_T7  APPLICATION_TYPE_T8  \\\n",
       "0                  0.0                  0.0                  0.0   \n",
       "1                  0.0                  0.0                  0.0   \n",
       "2                  0.0                  0.0                  0.0   \n",
       "3                  0.0                  0.0                  0.0   \n",
       "4                  0.0                  0.0                  0.0   \n",
       "\n",
       "   AFFILIATION_CompanySponsored  ...  INCOME_AMT_1-9999  \\\n",
       "0                           0.0  ...                0.0   \n",
       "1                           0.0  ...                1.0   \n",
       "2                           1.0  ...                0.0   \n",
       "3                           1.0  ...                0.0   \n",
       "4                           0.0  ...                0.0   \n",
       "\n",
       "   INCOME_AMT_10000-24999  INCOME_AMT_100000-499999  INCOME_AMT_10M-50M  \\\n",
       "0                     0.0                       0.0                 0.0   \n",
       "1                     0.0                       0.0                 0.0   \n",
       "2                     0.0                       0.0                 0.0   \n",
       "3                     1.0                       0.0                 0.0   \n",
       "4                     0.0                       1.0                 0.0   \n",
       "\n",
       "   INCOME_AMT_1M-5M  INCOME_AMT_25000-99999  INCOME_AMT_50M+  \\\n",
       "0               0.0                     0.0              0.0   \n",
       "1               0.0                     0.0              0.0   \n",
       "2               0.0                     0.0              0.0   \n",
       "3               0.0                     0.0              0.0   \n",
       "4               0.0                     0.0              0.0   \n",
       "\n",
       "   INCOME_AMT_5M-10M  SPECIAL_CONSIDERATIONS_N  SPECIAL_CONSIDERATIONS_Y  \n",
       "0                0.0                       1.0                       0.0  \n",
       "1                0.0                       1.0                       0.0  \n",
       "2                0.0                       1.0                       0.0  \n",
       "3                0.0                       1.0                       0.0  \n",
       "4                0.0                       1.0                       0.0  \n",
       "\n",
       "[5 rows x 41 columns]"
      ]
     },
     "execution_count": 24,
     "metadata": {},
     "output_type": "execute_result"
    }
   ],
   "source": [
    "# Create a OneHotEncoder instance\n",
    "enc = OneHotEncoder(sparse=False)\n",
    "\n",
    "# Fit and transform the OneHotEncoder using the categorical variable list\n",
    "encode_df = pd.DataFrame(enc.fit_transform(application_df[application_cat]))\n",
    "\n",
    "# Add the encoded variable names to the dataframe\n",
    "encode_df.columns = enc.get_feature_names(application_cat)\n",
    "encode_df.head()"
   ]
  },
  {
   "cell_type": "code",
   "execution_count": 25,
   "metadata": {},
   "outputs": [
    {
     "data": {
      "text/html": [
       "<div>\n",
       "<style scoped>\n",
       "    .dataframe tbody tr th:only-of-type {\n",
       "        vertical-align: middle;\n",
       "    }\n",
       "\n",
       "    .dataframe tbody tr th {\n",
       "        vertical-align: top;\n",
       "    }\n",
       "\n",
       "    .dataframe thead th {\n",
       "        text-align: right;\n",
       "    }\n",
       "</style>\n",
       "<table border=\"1\" class=\"dataframe\">\n",
       "  <thead>\n",
       "    <tr style=\"text-align: right;\">\n",
       "      <th></th>\n",
       "      <th>STATUS</th>\n",
       "      <th>ASK_AMT</th>\n",
       "      <th>IS_SUCCESSFUL</th>\n",
       "      <th>APPLICATION_TYPE_Other</th>\n",
       "      <th>APPLICATION_TYPE_T10</th>\n",
       "      <th>APPLICATION_TYPE_T19</th>\n",
       "      <th>APPLICATION_TYPE_T3</th>\n",
       "      <th>APPLICATION_TYPE_T4</th>\n",
       "      <th>APPLICATION_TYPE_T5</th>\n",
       "      <th>APPLICATION_TYPE_T6</th>\n",
       "      <th>...</th>\n",
       "      <th>INCOME_AMT_1-9999</th>\n",
       "      <th>INCOME_AMT_10000-24999</th>\n",
       "      <th>INCOME_AMT_100000-499999</th>\n",
       "      <th>INCOME_AMT_10M-50M</th>\n",
       "      <th>INCOME_AMT_1M-5M</th>\n",
       "      <th>INCOME_AMT_25000-99999</th>\n",
       "      <th>INCOME_AMT_50M+</th>\n",
       "      <th>INCOME_AMT_5M-10M</th>\n",
       "      <th>SPECIAL_CONSIDERATIONS_N</th>\n",
       "      <th>SPECIAL_CONSIDERATIONS_Y</th>\n",
       "    </tr>\n",
       "  </thead>\n",
       "  <tbody>\n",
       "    <tr>\n",
       "      <th>0</th>\n",
       "      <td>1</td>\n",
       "      <td>5000</td>\n",
       "      <td>1</td>\n",
       "      <td>0.0</td>\n",
       "      <td>1.0</td>\n",
       "      <td>0.0</td>\n",
       "      <td>0.0</td>\n",
       "      <td>0.0</td>\n",
       "      <td>0.0</td>\n",
       "      <td>0.0</td>\n",
       "      <td>...</td>\n",
       "      <td>0.0</td>\n",
       "      <td>0.0</td>\n",
       "      <td>0.0</td>\n",
       "      <td>0.0</td>\n",
       "      <td>0.0</td>\n",
       "      <td>0.0</td>\n",
       "      <td>0.0</td>\n",
       "      <td>0.0</td>\n",
       "      <td>1.0</td>\n",
       "      <td>0.0</td>\n",
       "    </tr>\n",
       "    <tr>\n",
       "      <th>1</th>\n",
       "      <td>1</td>\n",
       "      <td>108590</td>\n",
       "      <td>1</td>\n",
       "      <td>0.0</td>\n",
       "      <td>0.0</td>\n",
       "      <td>0.0</td>\n",
       "      <td>1.0</td>\n",
       "      <td>0.0</td>\n",
       "      <td>0.0</td>\n",
       "      <td>0.0</td>\n",
       "      <td>...</td>\n",
       "      <td>1.0</td>\n",
       "      <td>0.0</td>\n",
       "      <td>0.0</td>\n",
       "      <td>0.0</td>\n",
       "      <td>0.0</td>\n",
       "      <td>0.0</td>\n",
       "      <td>0.0</td>\n",
       "      <td>0.0</td>\n",
       "      <td>1.0</td>\n",
       "      <td>0.0</td>\n",
       "    </tr>\n",
       "    <tr>\n",
       "      <th>2</th>\n",
       "      <td>1</td>\n",
       "      <td>5000</td>\n",
       "      <td>0</td>\n",
       "      <td>0.0</td>\n",
       "      <td>0.0</td>\n",
       "      <td>0.0</td>\n",
       "      <td>0.0</td>\n",
       "      <td>0.0</td>\n",
       "      <td>1.0</td>\n",
       "      <td>0.0</td>\n",
       "      <td>...</td>\n",
       "      <td>0.0</td>\n",
       "      <td>0.0</td>\n",
       "      <td>0.0</td>\n",
       "      <td>0.0</td>\n",
       "      <td>0.0</td>\n",
       "      <td>0.0</td>\n",
       "      <td>0.0</td>\n",
       "      <td>0.0</td>\n",
       "      <td>1.0</td>\n",
       "      <td>0.0</td>\n",
       "    </tr>\n",
       "    <tr>\n",
       "      <th>3</th>\n",
       "      <td>1</td>\n",
       "      <td>6692</td>\n",
       "      <td>1</td>\n",
       "      <td>0.0</td>\n",
       "      <td>0.0</td>\n",
       "      <td>0.0</td>\n",
       "      <td>1.0</td>\n",
       "      <td>0.0</td>\n",
       "      <td>0.0</td>\n",
       "      <td>0.0</td>\n",
       "      <td>...</td>\n",
       "      <td>0.0</td>\n",
       "      <td>1.0</td>\n",
       "      <td>0.0</td>\n",
       "      <td>0.0</td>\n",
       "      <td>0.0</td>\n",
       "      <td>0.0</td>\n",
       "      <td>0.0</td>\n",
       "      <td>0.0</td>\n",
       "      <td>1.0</td>\n",
       "      <td>0.0</td>\n",
       "    </tr>\n",
       "    <tr>\n",
       "      <th>4</th>\n",
       "      <td>1</td>\n",
       "      <td>142590</td>\n",
       "      <td>1</td>\n",
       "      <td>0.0</td>\n",
       "      <td>0.0</td>\n",
       "      <td>0.0</td>\n",
       "      <td>1.0</td>\n",
       "      <td>0.0</td>\n",
       "      <td>0.0</td>\n",
       "      <td>0.0</td>\n",
       "      <td>...</td>\n",
       "      <td>0.0</td>\n",
       "      <td>0.0</td>\n",
       "      <td>1.0</td>\n",
       "      <td>0.0</td>\n",
       "      <td>0.0</td>\n",
       "      <td>0.0</td>\n",
       "      <td>0.0</td>\n",
       "      <td>0.0</td>\n",
       "      <td>1.0</td>\n",
       "      <td>0.0</td>\n",
       "    </tr>\n",
       "  </tbody>\n",
       "</table>\n",
       "<p>5 rows × 44 columns</p>\n",
       "</div>"
      ],
      "text/plain": [
       "   STATUS  ASK_AMT  IS_SUCCESSFUL  APPLICATION_TYPE_Other  \\\n",
       "0       1     5000              1                     0.0   \n",
       "1       1   108590              1                     0.0   \n",
       "2       1     5000              0                     0.0   \n",
       "3       1     6692              1                     0.0   \n",
       "4       1   142590              1                     0.0   \n",
       "\n",
       "   APPLICATION_TYPE_T10  APPLICATION_TYPE_T19  APPLICATION_TYPE_T3  \\\n",
       "0                   1.0                   0.0                  0.0   \n",
       "1                   0.0                   0.0                  1.0   \n",
       "2                   0.0                   0.0                  0.0   \n",
       "3                   0.0                   0.0                  1.0   \n",
       "4                   0.0                   0.0                  1.0   \n",
       "\n",
       "   APPLICATION_TYPE_T4  APPLICATION_TYPE_T5  APPLICATION_TYPE_T6  ...  \\\n",
       "0                  0.0                  0.0                  0.0  ...   \n",
       "1                  0.0                  0.0                  0.0  ...   \n",
       "2                  0.0                  1.0                  0.0  ...   \n",
       "3                  0.0                  0.0                  0.0  ...   \n",
       "4                  0.0                  0.0                  0.0  ...   \n",
       "\n",
       "   INCOME_AMT_1-9999  INCOME_AMT_10000-24999  INCOME_AMT_100000-499999  \\\n",
       "0                0.0                     0.0                       0.0   \n",
       "1                1.0                     0.0                       0.0   \n",
       "2                0.0                     0.0                       0.0   \n",
       "3                0.0                     1.0                       0.0   \n",
       "4                0.0                     0.0                       1.0   \n",
       "\n",
       "   INCOME_AMT_10M-50M  INCOME_AMT_1M-5M  INCOME_AMT_25000-99999  \\\n",
       "0                 0.0               0.0                     0.0   \n",
       "1                 0.0               0.0                     0.0   \n",
       "2                 0.0               0.0                     0.0   \n",
       "3                 0.0               0.0                     0.0   \n",
       "4                 0.0               0.0                     0.0   \n",
       "\n",
       "   INCOME_AMT_50M+  INCOME_AMT_5M-10M  SPECIAL_CONSIDERATIONS_N  \\\n",
       "0              0.0                0.0                       1.0   \n",
       "1              0.0                0.0                       1.0   \n",
       "2              0.0                0.0                       1.0   \n",
       "3              0.0                0.0                       1.0   \n",
       "4              0.0                0.0                       1.0   \n",
       "\n",
       "   SPECIAL_CONSIDERATIONS_Y  \n",
       "0                       0.0  \n",
       "1                       0.0  \n",
       "2                       0.0  \n",
       "3                       0.0  \n",
       "4                       0.0  \n",
       "\n",
       "[5 rows x 44 columns]"
      ]
     },
     "execution_count": 25,
     "metadata": {},
     "output_type": "execute_result"
    }
   ],
   "source": [
    "# Merge one-hot encoded features and drop the originals\n",
    "application_df = application_df.merge(encode_df, left_index=True, right_index=True)\n",
    "application_df = application_df.drop(application_cat, axis=1)\n",
    "application_df.head()"
   ]
  },
  {
   "cell_type": "code",
   "execution_count": 26,
   "metadata": {},
   "outputs": [
    {
     "data": {
      "text/plain": [
       "(34299, 44)"
      ]
     },
     "execution_count": 26,
     "metadata": {},
     "output_type": "execute_result"
    }
   ],
   "source": [
    "application_df.shape"
   ]
  },
  {
   "cell_type": "code",
   "execution_count": 27,
   "metadata": {
    "tags": []
   },
   "outputs": [
    {
     "name": "stdout",
     "output_type": "stream",
     "text": [
      "<class 'pandas.core.frame.DataFrame'>\n",
      "RangeIndex: 34299 entries, 0 to 34298\n",
      "Data columns (total 44 columns):\n",
      " #   Column                        Non-Null Count  Dtype  \n",
      "---  ------                        --------------  -----  \n",
      " 0   STATUS                        34299 non-null  int64  \n",
      " 1   ASK_AMT                       34299 non-null  int64  \n",
      " 2   IS_SUCCESSFUL                 34299 non-null  int64  \n",
      " 3   APPLICATION_TYPE_Other        34299 non-null  float64\n",
      " 4   APPLICATION_TYPE_T10          34299 non-null  float64\n",
      " 5   APPLICATION_TYPE_T19          34299 non-null  float64\n",
      " 6   APPLICATION_TYPE_T3           34299 non-null  float64\n",
      " 7   APPLICATION_TYPE_T4           34299 non-null  float64\n",
      " 8   APPLICATION_TYPE_T5           34299 non-null  float64\n",
      " 9   APPLICATION_TYPE_T6           34299 non-null  float64\n",
      " 10  APPLICATION_TYPE_T7           34299 non-null  float64\n",
      " 11  APPLICATION_TYPE_T8           34299 non-null  float64\n",
      " 12  AFFILIATION_CompanySponsored  34299 non-null  float64\n",
      " 13  AFFILIATION_Family/Parent     34299 non-null  float64\n",
      " 14  AFFILIATION_Independent       34299 non-null  float64\n",
      " 15  AFFILIATION_National          34299 non-null  float64\n",
      " 16  AFFILIATION_Other             34299 non-null  float64\n",
      " 17  AFFILIATION_Regional          34299 non-null  float64\n",
      " 18  CLASSIFICATION_C1000          34299 non-null  float64\n",
      " 19  CLASSIFICATION_C1200          34299 non-null  float64\n",
      " 20  CLASSIFICATION_C2000          34299 non-null  float64\n",
      " 21  CLASSIFICATION_C2100          34299 non-null  float64\n",
      " 22  CLASSIFICATION_C3000          34299 non-null  float64\n",
      " 23  CLASSIFICATION_Other          34299 non-null  float64\n",
      " 24  USE_CASE_CommunityServ        34299 non-null  float64\n",
      " 25  USE_CASE_Heathcare            34299 non-null  float64\n",
      " 26  USE_CASE_Other                34299 non-null  float64\n",
      " 27  USE_CASE_Preservation         34299 non-null  float64\n",
      " 28  USE_CASE_ProductDev           34299 non-null  float64\n",
      " 29  ORGANIZATION_Association      34299 non-null  float64\n",
      " 30  ORGANIZATION_Co-operative     34299 non-null  float64\n",
      " 31  ORGANIZATION_Corporation      34299 non-null  float64\n",
      " 32  ORGANIZATION_Trust            34299 non-null  float64\n",
      " 33  INCOME_AMT_0                  34299 non-null  float64\n",
      " 34  INCOME_AMT_1-9999             34299 non-null  float64\n",
      " 35  INCOME_AMT_10000-24999        34299 non-null  float64\n",
      " 36  INCOME_AMT_100000-499999      34299 non-null  float64\n",
      " 37  INCOME_AMT_10M-50M            34299 non-null  float64\n",
      " 38  INCOME_AMT_1M-5M              34299 non-null  float64\n",
      " 39  INCOME_AMT_25000-99999        34299 non-null  float64\n",
      " 40  INCOME_AMT_50M+               34299 non-null  float64\n",
      " 41  INCOME_AMT_5M-10M             34299 non-null  float64\n",
      " 42  SPECIAL_CONSIDERATIONS_N      34299 non-null  float64\n",
      " 43  SPECIAL_CONSIDERATIONS_Y      34299 non-null  float64\n",
      "dtypes: float64(41), int64(3)\n",
      "memory usage: 11.5 MB\n"
     ]
    }
   ],
   "source": [
    "# check if numeric\n",
    "application_df.info()"
   ]
  },
  {
   "cell_type": "code",
   "execution_count": 28,
   "metadata": {},
   "outputs": [
    {
     "name": "stderr",
     "output_type": "stream",
     "text": [
      "/Users/ianhernandez/opt/anaconda3/envs/mlenv/lib/python3.7/site-packages/ipykernel_launcher.py:3: FutureWarning: In a future version of pandas all arguments of DataFrame.drop except for the argument 'labels' will be keyword-only\n",
      "  This is separate from the ipykernel package so we can avoid doing imports until\n"
     ]
    }
   ],
   "source": [
    "# Split our preprocessed data into our features and target arrays\n",
    "y = application_df[\"IS_SUCCESSFUL\"].values\n",
    "X = application_df.drop([\"IS_SUCCESSFUL\"],1).values"
   ]
  },
  {
   "cell_type": "code",
   "execution_count": 29,
   "metadata": {},
   "outputs": [],
   "source": [
    "# Split the preprocessed data into a training and testing dataset\n",
    "X_train, X_test, y_train, y_test = train_test_split(X, y, random_state=50)"
   ]
  },
  {
   "cell_type": "code",
   "execution_count": 30,
   "metadata": {},
   "outputs": [],
   "source": [
    "# Create a StandardScaler instances\n",
    "scaler = StandardScaler()\n",
    "\n",
    "# Fit the StandardScaler\n",
    "X_scaler = scaler.fit(X_train)\n",
    "\n",
    "# Scale the data\n",
    "X_train_scaled = X_scaler.transform(X_train)\n",
    "X_test_scaled = X_scaler.transform(X_test)"
   ]
  },
  {
   "cell_type": "code",
   "execution_count": 31,
   "metadata": {},
   "outputs": [
    {
     "data": {
      "text/plain": [
       "array([[ 0.01394306, -0.00426754, -0.08940766, ..., -0.07581129,\n",
       "         0.02789425, -0.02789425],\n",
       "       [ 0.01394306, -0.03100907, -0.08940766, ..., -0.07581129,\n",
       "         0.02789425, -0.02789425],\n",
       "       [ 0.01394306, -0.03100907, -0.08940766, ..., -0.07581129,\n",
       "         0.02789425, -0.02789425],\n",
       "       ...,\n",
       "       [ 0.01394306, -0.01636753, -0.08940766, ..., -0.07581129,\n",
       "         0.02789425, -0.02789425],\n",
       "       [ 0.01394306, -0.03100907, -0.08940766, ..., -0.07581129,\n",
       "         0.02789425, -0.02789425],\n",
       "       [ 0.01394306, -0.03100907, -0.08940766, ..., -0.07581129,\n",
       "         0.02789425, -0.02789425]])"
      ]
     },
     "execution_count": 31,
     "metadata": {},
     "output_type": "execute_result"
    }
   ],
   "source": [
    "# examine \n",
    "X_train_scaled"
   ]
  },
  {
   "cell_type": "markdown",
   "metadata": {},
   "source": [
    "### Deliverable 2: Compile, Train and Evaluate the Model"
   ]
  },
  {
   "cell_type": "code",
   "execution_count": 32,
   "metadata": {
    "tags": []
   },
   "outputs": [],
   "source": [
    "# testing\n",
    "# X_train = X_train.reset_index()"
   ]
  },
  {
   "cell_type": "code",
   "execution_count": 33,
   "metadata": {},
   "outputs": [
    {
     "data": {
      "text/plain": [
       "array([[1.000000e+00, 2.631396e+06, 0.000000e+00, ..., 0.000000e+00,\n",
       "        1.000000e+00, 0.000000e+00],\n",
       "       [1.000000e+00, 5.000000e+03, 0.000000e+00, ..., 0.000000e+00,\n",
       "        1.000000e+00, 0.000000e+00],\n",
       "       [1.000000e+00, 5.000000e+03, 0.000000e+00, ..., 0.000000e+00,\n",
       "        1.000000e+00, 0.000000e+00],\n",
       "       ...,\n",
       "       [1.000000e+00, 1.443006e+06, 0.000000e+00, ..., 0.000000e+00,\n",
       "        1.000000e+00, 0.000000e+00],\n",
       "       [1.000000e+00, 5.000000e+03, 0.000000e+00, ..., 0.000000e+00,\n",
       "        1.000000e+00, 0.000000e+00],\n",
       "       [1.000000e+00, 5.000000e+03, 0.000000e+00, ..., 0.000000e+00,\n",
       "        1.000000e+00, 0.000000e+00]])"
      ]
     },
     "execution_count": 33,
     "metadata": {},
     "output_type": "execute_result"
    }
   ],
   "source": [
    "(X_train)"
   ]
  },
  {
   "cell_type": "code",
   "execution_count": 34,
   "metadata": {},
   "outputs": [
    {
     "data": {
      "text/plain": [
       "43"
      ]
     },
     "execution_count": 34,
     "metadata": {},
     "output_type": "execute_result"
    }
   ],
   "source": [
    "#testing\n",
    "len(X_train[0])"
   ]
  },
  {
   "cell_type": "code",
   "execution_count": 35,
   "metadata": {},
   "outputs": [
    {
     "name": "stderr",
     "output_type": "stream",
     "text": [
      "2022-03-10 10:25:34.742518: I tensorflow/core/platform/cpu_feature_guard.cc:145] This TensorFlow binary is optimized with Intel(R) MKL-DNN to use the following CPU instructions in performance critical operations:  SSE4.1 SSE4.2\n",
      "To enable them in non-MKL-DNN operations, rebuild TensorFlow with the appropriate compiler flags.\n",
      "2022-03-10 10:25:34.743907: I tensorflow/core/common_runtime/process_util.cc:115] Creating new thread pool with default inter op setting: 8. Tune using inter_op_parallelism_threads for best performance.\n"
     ]
    },
    {
     "name": "stdout",
     "output_type": "stream",
     "text": [
      "Model: \"sequential\"\n",
      "_________________________________________________________________\n",
      "Layer (type)                 Output Shape              Param #   \n",
      "=================================================================\n",
      "dense (Dense)                (None, 80)                3520      \n",
      "_________________________________________________________________\n",
      "dense_1 (Dense)              (None, 50)                4050      \n",
      "_________________________________________________________________\n",
      "dense_2 (Dense)              (None, 1)                 51        \n",
      "=================================================================\n",
      "Total params: 7,621\n",
      "Trainable params: 7,621\n",
      "Non-trainable params: 0\n",
      "_________________________________________________________________\n"
     ]
    }
   ],
   "source": [
    "# Define the model - deep neural net, i.e., the number of input features and hidden nodes for each layer.\n",
    "number_input_features = len(X_train[0])\n",
    "hidden_nodes_layers1 = 80\n",
    "hidden_nodes_layers2 = 50 \n",
    "\n",
    "nn = tf.keras.models.Sequential()\n",
    "\n",
    "# First hidden layer\n",
    "nn.add(tf.keras.layers.Dense(units=hidden_nodes_layers1, input_dim=number_input_features, activation=\"relu\"))\n",
    "\n",
    "# Second hidden layer\n",
    "nn.add(tf.keras.layers.Dense(units=hidden_nodes_layers2, activation=\"relu\"))\n",
    "\n",
    "# Output layer\n",
    "nn.add(tf.keras.layers.Dense(units=1, activation=\"sigmoid\"))\n",
    "# Check the structure of the model\n",
    "nn.summary()"
   ]
  },
  {
   "cell_type": "code",
   "execution_count": 36,
   "metadata": {},
   "outputs": [],
   "source": [
    "# Import checkpoint dependencies\n",
    "import os\n",
    "from tensorflow.keras.callbacks import ModelCheckpoint\n",
    "\n",
    "# Define the checkpoint path and filenames\n",
    "os.makedirs(\"checkpoints/\",exist_ok=True)\n",
    "checkpoint_path = \"checkpoints/weights.{epoch:02d}.hdf5\""
   ]
  },
  {
   "cell_type": "code",
   "execution_count": 37,
   "metadata": {},
   "outputs": [],
   "source": [
    "# Compile the model\n",
    "nn.compile(loss=\"binary_crossentropy\", optimizer=\"adam\", metrics=[\"accuracy\"])"
   ]
  },
  {
   "cell_type": "code",
   "execution_count": 38,
   "metadata": {},
   "outputs": [],
   "source": [
    "# Create a callback that saves the model's weights every epoch\n",
    "cp_callback = ModelCheckpoint(\n",
    "    filepath=checkpoint_path,\n",
    "    verbose=1,\n",
    "    save_weights_only=True,\n",
    "    save_freq='epoch')\n"
   ]
  },
  {
   "cell_type": "code",
   "execution_count": 40,
   "metadata": {
    "collapsed": true,
    "jupyter": {
     "outputs_hidden": true
    },
    "tags": []
   },
   "outputs": [
    {
     "name": "stdout",
     "output_type": "stream",
     "text": [
      "Train on 25724 samples\n",
      "Epoch 1/100\n",
      "25312/25724 [============================>.] - ETA: 0s - loss: 104903.7385 - accuracy: 0.4944\n",
      "Epoch 00001: saving model to checkpoints/weights.01.hdf5\n",
      "25724/25724 [==============================] - 3s 135us/sample - loss: 103245.0916 - accuracy: 0.4943\n",
      "Epoch 2/100\n",
      "25696/25724 [============================>.] - ETA: 0s - loss: 89062.1652 - accuracy: 0.4946\n",
      "Epoch 00002: saving model to checkpoints/weights.02.hdf5\n",
      "25724/25724 [==============================] - 3s 115us/sample - loss: 88965.3015 - accuracy: 0.4946\n",
      "Epoch 3/100\n",
      "25664/25724 [============================>.] - ETA: 0s - loss: 38711.1543 - accuracy: 0.4935\n",
      "Epoch 00003: saving model to checkpoints/weights.03.hdf5\n",
      "25724/25724 [==============================] - 3s 105us/sample - loss: 39548.7238 - accuracy: 0.4933\n",
      "Epoch 4/100\n",
      "25408/25724 [============================>.] - ETA: 0s - loss: 96178.3169 - accuracy: 0.4986\n",
      "Epoch 00004: saving model to checkpoints/weights.04.hdf5\n",
      "25724/25724 [==============================] - 3s 108us/sample - loss: 95045.2146 - accuracy: 0.4995\n",
      "Epoch 5/100\n",
      "25632/25724 [============================>.] - ETA: 0s - loss: 53921.6166 - accuracy: 0.5027\n",
      "Epoch 00005: saving model to checkpoints/weights.05.hdf5\n",
      "25724/25724 [==============================] - 2s 95us/sample - loss: 54018.8469 - accuracy: 0.5026\n",
      "Epoch 6/100\n",
      "25216/25724 [============================>.] - ETA: 0s - loss: 51923.2071 - accuracy: 0.4924\n",
      "Epoch 00006: saving model to checkpoints/weights.06.hdf5\n",
      "25724/25724 [==============================] - 2s 97us/sample - loss: 51349.1764 - accuracy: 0.4923\n",
      "Epoch 7/100\n",
      "25408/25724 [============================>.] - ETA: 0s - loss: 46015.5577 - accuracy: 0.5029\n",
      "Epoch 00007: saving model to checkpoints/weights.07.hdf5\n",
      "25724/25724 [==============================] - 3s 100us/sample - loss: 45467.4641 - accuracy: 0.5036\n",
      "Epoch 8/100\n",
      "25344/25724 [============================>.] - ETA: 0s - loss: 14862.6064 - accuracy: 0.5180\n",
      "Epoch 00008: saving model to checkpoints/weights.08.hdf5\n",
      "25724/25724 [==============================] - 3s 97us/sample - loss: 14757.0029 - accuracy: 0.5176\n",
      "Epoch 9/100\n",
      "25440/25724 [============================>.] - ETA: 0s - loss: 53277.3392 - accuracy: 0.5143\n",
      "Epoch 00009: saving model to checkpoints/weights.09.hdf5\n",
      "25724/25724 [==============================] - 2s 93us/sample - loss: 52692.4101 - accuracy: 0.5147\n",
      "Epoch 10/100\n",
      "25472/25724 [============================>.] - ETA: 0s - loss: 28320.8319 - accuracy: 0.5047\n",
      "Epoch 00010: saving model to checkpoints/weights.10.hdf5\n",
      "25724/25724 [==============================] - 2s 95us/sample - loss: 28043.7739 - accuracy: 0.5052\n",
      "Epoch 11/100\n",
      "25376/25724 [============================>.] - ETA: 0s - loss: 17659.0079 - accuracy: 0.5042\n",
      "Epoch 00011: saving model to checkpoints/weights.11.hdf5\n",
      "25724/25724 [==============================] - 3s 111us/sample - loss: 17448.1416 - accuracy: 0.5040\n",
      "Epoch 12/100\n",
      "25216/25724 [============================>.] - ETA: 0s - loss: 10704.2568 - accuracy: 0.4887\n",
      "Epoch 00012: saving model to checkpoints/weights.12.hdf5\n",
      "25724/25724 [==============================] - 2s 96us/sample - loss: 10522.1978 - accuracy: 0.4879\n",
      "Epoch 13/100\n",
      "25600/25724 [============================>.] - ETA: 0s - loss: 8198.6480 - accuracy: 0.5236\n",
      "Epoch 00013: saving model to checkpoints/weights.13.hdf5\n",
      "25724/25724 [==============================] - 3s 104us/sample - loss: 8161.7495 - accuracy: 0.5238\n",
      "Epoch 14/100\n",
      "25280/25724 [============================>.] - ETA: 0s - loss: 5926.4701 - accuracy: 0.5113\n",
      "Epoch 00014: saving model to checkpoints/weights.14.hdf5\n",
      "25724/25724 [==============================] - 4s 139us/sample - loss: 5848.3309 - accuracy: 0.5108\n",
      "Epoch 15/100\n",
      "25664/25724 [============================>.] - ETA: 0s - loss: 5408.6612 - accuracy: 0.5162\n",
      "Epoch 00015: saving model to checkpoints/weights.15.hdf5\n",
      "25724/25724 [==============================] - 2s 97us/sample - loss: 5399.1517 - accuracy: 0.5162\n",
      "Epoch 16/100\n",
      "25472/25724 [============================>.] - ETA: 0s - loss: 9622.2295 - accuracy: 0.5038\n",
      "Epoch 00016: saving model to checkpoints/weights.16.hdf5\n",
      "25724/25724 [==============================] - 3s 98us/sample - loss: 9530.2699 - accuracy: 0.5034\n",
      "Epoch 17/100\n",
      "25568/25724 [============================>.] - ETA: 0s - loss: 1333.0699 - accuracy: 0.4952\n",
      "Epoch 00017: saving model to checkpoints/weights.17.hdf5\n",
      "25724/25724 [==============================] - 3s 101us/sample - loss: 1325.0070 - accuracy: 0.4956\n",
      "Epoch 18/100\n",
      "25440/25724 [============================>.] - ETA: 0s - loss: 302.3548 - accuracy: 0.5140\n",
      "Epoch 00018: saving model to checkpoints/weights.18.hdf5\n",
      "25724/25724 [==============================] - 3s 108us/sample - loss: 299.0712 - accuracy: 0.5143\n",
      "Epoch 19/100\n",
      "25440/25724 [============================>.] - ETA: 0s - loss: 124.7246 - accuracy: 0.5169\n",
      "Epoch 00019: saving model to checkpoints/weights.19.hdf5\n",
      "25724/25724 [==============================] - 3s 114us/sample - loss: 123.5174 - accuracy: 0.5170\n",
      "Epoch 20/100\n",
      "25536/25724 [============================>.] - ETA: 0s - loss: 1.3188 - accuracy: 0.5320\n",
      "Epoch 00020: saving model to checkpoints/weights.20.hdf5\n",
      "25724/25724 [==============================] - 3s 109us/sample - loss: 1.3137 - accuracy: 0.5324\n",
      "Epoch 21/100\n",
      "25440/25724 [============================>.] - ETA: 0s - loss: 0.6475 - accuracy: 0.5956\n",
      "Epoch 00021: saving model to checkpoints/weights.21.hdf5\n",
      "25724/25724 [==============================] - 3s 100us/sample - loss: 0.6473 - accuracy: 0.5962\n",
      "Epoch 22/100\n",
      "25408/25724 [============================>.] - ETA: 0s - loss: 0.6413 - accuracy: 0.6267\n",
      "Epoch 00022: saving model to checkpoints/weights.22.hdf5\n",
      "25724/25724 [==============================] - 3s 108us/sample - loss: 0.6412 - accuracy: 0.6267\n",
      "Epoch 23/100\n",
      "25664/25724 [============================>.] - ETA: 0s - loss: 0.6400 - accuracy: 0.6295\n",
      "Epoch 00023: saving model to checkpoints/weights.23.hdf5\n",
      "25724/25724 [==============================] - 3s 109us/sample - loss: 0.6400 - accuracy: 0.6295\n",
      "Epoch 24/100\n",
      "25312/25724 [============================>.] - ETA: 0s - loss: 0.6398 - accuracy: 0.6300\n",
      "Epoch 00024: saving model to checkpoints/weights.24.hdf5\n",
      "25724/25724 [==============================] - 3s 99us/sample - loss: 0.6395 - accuracy: 0.6303\n",
      "Epoch 25/100\n",
      "25312/25724 [============================>.] - ETA: 0s - loss: 0.6391 - accuracy: 0.6305\n",
      "Epoch 00025: saving model to checkpoints/weights.25.hdf5\n",
      "25724/25724 [==============================] - 2s 96us/sample - loss: 0.6389 - accuracy: 0.6308\n",
      "Epoch 26/100\n",
      "25632/25724 [============================>.] - ETA: 0s - loss: 0.6373 - accuracy: 0.6346\n",
      "Epoch 00026: saving model to checkpoints/weights.26.hdf5\n",
      "25724/25724 [==============================] - 3s 115us/sample - loss: 0.6374 - accuracy: 0.6345\n",
      "Epoch 27/100\n",
      "25632/25724 [============================>.] - ETA: 0s - loss: 0.6355 - accuracy: 0.6428\n",
      "Epoch 00027: saving model to checkpoints/weights.27.hdf5\n",
      "25724/25724 [==============================] - 2s 91us/sample - loss: 0.6355 - accuracy: 0.6430\n",
      "Epoch 28/100\n",
      "25600/25724 [============================>.] - ETA: 0s - loss: 0.6370 - accuracy: 0.6398\n",
      "Epoch 00028: saving model to checkpoints/weights.28.hdf5\n",
      "25724/25724 [==============================] - 2s 95us/sample - loss: 0.6373 - accuracy: 0.6397\n",
      "Epoch 29/100\n",
      "25280/25724 [============================>.] - ETA: 0s - loss: 0.6361 - accuracy: 0.6449\n",
      "Epoch 00029: saving model to checkpoints/weights.29.hdf5\n",
      "25724/25724 [==============================] - 2s 96us/sample - loss: 0.6364 - accuracy: 0.6440\n",
      "Epoch 30/100\n",
      "25312/25724 [============================>.] - ETA: 0s - loss: 0.6361 - accuracy: 0.6434\n",
      "Epoch 00030: saving model to checkpoints/weights.30.hdf5\n",
      "25724/25724 [==============================] - 3s 105us/sample - loss: 0.6359 - accuracy: 0.6437\n",
      "Epoch 31/100\n",
      "25280/25724 [============================>.] - ETA: 0s - loss: 0.6362 - accuracy: 0.6440\n",
      "Epoch 00031: saving model to checkpoints/weights.31.hdf5\n",
      "25724/25724 [==============================] - 3s 105us/sample - loss: 0.6360 - accuracy: 0.6442\n",
      "Epoch 32/100\n",
      "25280/25724 [============================>.] - ETA: 0s - loss: 0.6361 - accuracy: 0.6434\n",
      "Epoch 00032: saving model to checkpoints/weights.32.hdf5\n",
      "25724/25724 [==============================] - 3s 108us/sample - loss: 0.6364 - accuracy: 0.6431\n",
      "Epoch 33/100\n",
      "25408/25724 [============================>.] - ETA: 0s - loss: 0.6368 - accuracy: 0.6429\n",
      "Epoch 00033: saving model to checkpoints/weights.33.hdf5\n",
      "25724/25724 [==============================] - 2s 94us/sample - loss: 0.6365 - accuracy: 0.6434\n",
      "Epoch 34/100\n",
      "25600/25724 [============================>.] - ETA: 0s - loss: 0.6353 - accuracy: 0.6457\n",
      "Epoch 00034: saving model to checkpoints/weights.34.hdf5\n",
      "25724/25724 [==============================] - 2s 95us/sample - loss: 0.6353 - accuracy: 0.6459\n",
      "Epoch 35/100\n",
      "25440/25724 [============================>.] - ETA: 0s - loss: 0.6356 - accuracy: 0.6490\n",
      "Epoch 00035: saving model to checkpoints/weights.35.hdf5\n",
      "25724/25724 [==============================] - 2s 90us/sample - loss: 0.6356 - accuracy: 0.6491\n",
      "Epoch 36/100\n",
      "25504/25724 [============================>.] - ETA: 0s - loss: 0.6364 - accuracy: 0.6470\n",
      "Epoch 00036: saving model to checkpoints/weights.36.hdf5\n",
      "25724/25724 [==============================] - 2s 93us/sample - loss: 0.6366 - accuracy: 0.6468\n",
      "Epoch 37/100\n",
      "25536/25724 [============================>.] - ETA: 0s - loss: 0.6363 - accuracy: 0.6500\n",
      "Epoch 00037: saving model to checkpoints/weights.37.hdf5\n",
      "25724/25724 [==============================] - 2s 93us/sample - loss: 0.6363 - accuracy: 0.6500\n",
      "Epoch 38/100\n",
      "25568/25724 [============================>.] - ETA: 0s - loss: 0.6411 - accuracy: 0.6420\n",
      "Epoch 00038: saving model to checkpoints/weights.38.hdf5\n",
      "25724/25724 [==============================] - 4s 148us/sample - loss: 0.6411 - accuracy: 0.6414\n",
      "Epoch 39/100\n",
      "25600/25724 [============================>.] - ETA: 0s - loss: 0.6370 - accuracy: 0.6487\n",
      "Epoch 00039: saving model to checkpoints/weights.39.hdf5\n",
      "25724/25724 [==============================] - 11s 437us/sample - loss: 0.6370 - accuracy: 0.6487\n",
      "Epoch 40/100\n",
      "25696/25724 [============================>.] - ETA: 0s - loss: 0.6745 - accuracy: 0.5611\n",
      "Epoch 00040: saving model to checkpoints/weights.40.hdf5\n",
      "25724/25724 [==============================] - 16s 624us/sample - loss: 0.6745 - accuracy: 0.5609\n",
      "Epoch 41/100\n",
      "25632/25724 [============================>.] - ETA: 0s - loss: 0.6914 - accuracy: 0.5314\n",
      "Epoch 00041: saving model to checkpoints/weights.41.hdf5\n",
      "25724/25724 [==============================] - 16s 624us/sample - loss: 0.6914 - accuracy: 0.5316\n",
      "Epoch 42/100\n",
      "25696/25724 [============================>.] - ETA: 0s - loss: 0.6913 - accuracy: 0.5316\n",
      "Epoch 00042: saving model to checkpoints/weights.42.hdf5\n",
      "25724/25724 [==============================] - 9s 364us/sample - loss: 0.6914 - accuracy: 0.5316\n",
      "Epoch 43/100\n",
      "25696/25724 [============================>.] - ETA: 0s - loss: 0.6914 - accuracy: 0.5315\n",
      "Epoch 00043: saving model to checkpoints/weights.43.hdf5\n",
      "25724/25724 [==============================] - 16s 617us/sample - loss: 0.6913 - accuracy: 0.5316\n",
      "Epoch 44/100\n",
      "25600/25724 [============================>.] - ETA: 0s - loss: 0.6913 - accuracy: 0.5318\n",
      "Epoch 00044: saving model to checkpoints/weights.44.hdf5\n",
      "25724/25724 [==============================] - 15s 597us/sample - loss: 0.6914 - accuracy: 0.5316\n",
      "Epoch 45/100\n",
      "25600/25724 [============================>.] - ETA: 0s - loss: 0.6913 - accuracy: 0.5315\n",
      "Epoch 00045: saving model to checkpoints/weights.45.hdf5\n",
      "25724/25724 [==============================] - 10s 371us/sample - loss: 0.6913 - accuracy: 0.5316\n",
      "Epoch 46/100\n",
      "25664/25724 [============================>.] - ETA: 0s - loss: 0.6912 - accuracy: 0.5316\n",
      "Epoch 00046: saving model to checkpoints/weights.46.hdf5\n",
      "25724/25724 [==============================] - 13s 491us/sample - loss: 0.6912 - accuracy: 0.5316\n",
      "Epoch 47/100\n",
      "25568/25724 [============================>.] - ETA: 0s - loss: 0.6913 - accuracy: 0.5318\n",
      "Epoch 00047: saving model to checkpoints/weights.47.hdf5\n",
      "25724/25724 [==============================] - 11s 427us/sample - loss: 0.6914 - accuracy: 0.5316\n",
      "Epoch 48/100\n",
      "25696/25724 [============================>.] - ETA: 0s - loss: 0.6913 - accuracy: 0.5316\n",
      "Epoch 00048: saving model to checkpoints/weights.48.hdf5\n",
      "25724/25724 [==============================] - 12s 473us/sample - loss: 0.6913 - accuracy: 0.5316\n",
      "Epoch 49/100\n",
      "25472/25724 [============================>.] - ETA: 0s - loss: 0.6914 - accuracy: 0.5316\n",
      "Epoch 00049: saving model to checkpoints/weights.49.hdf5\n",
      "25724/25724 [==============================] - 3s 100us/sample - loss: 0.6914 - accuracy: 0.5316\n",
      "Epoch 50/100\n",
      "25664/25724 [============================>.] - ETA: 0s - loss: 0.6913 - accuracy: 0.5318\n",
      "Epoch 00050: saving model to checkpoints/weights.50.hdf5\n",
      "25724/25724 [==============================] - 3s 119us/sample - loss: 0.6913 - accuracy: 0.5316\n",
      "Epoch 51/100\n",
      "25696/25724 [============================>.] - ETA: 0s - loss: 0.6913 - accuracy: 0.5316\n",
      "Epoch 00051: saving model to checkpoints/weights.51.hdf5\n",
      "25724/25724 [==============================] - 9s 347us/sample - loss: 0.6913 - accuracy: 0.5316\n",
      "Epoch 52/100\n",
      "25664/25724 [============================>.] - ETA: 0s - loss: 0.6915 - accuracy: 0.5317\n",
      "Epoch 00052: saving model to checkpoints/weights.52.hdf5\n",
      "25724/25724 [==============================] - 17s 669us/sample - loss: 0.6915 - accuracy: 0.5316\n",
      "Epoch 53/100\n",
      "25696/25724 [============================>.] - ETA: 0s - loss: 0.6915 - accuracy: 0.5315\n",
      "Epoch 00053: saving model to checkpoints/weights.53.hdf5\n",
      "25724/25724 [==============================] - 9s 342us/sample - loss: 0.6915 - accuracy: 0.5316\n",
      "Epoch 54/100\n",
      "25696/25724 [============================>.] - ETA: 0s - loss: 0.6913 - accuracy: 0.5316\n",
      "Epoch 00054: saving model to checkpoints/weights.54.hdf5\n",
      "25724/25724 [==============================] - 17s 646us/sample - loss: 0.6913 - accuracy: 0.5316\n",
      "Epoch 55/100\n",
      "25696/25724 [============================>.] - ETA: 0s - loss: 0.6913 - accuracy: 0.5316\n",
      "Epoch 00055: saving model to checkpoints/weights.55.hdf5\n",
      "25724/25724 [==============================] - 18s 684us/sample - loss: 0.6913 - accuracy: 0.5316\n",
      "Epoch 56/100\n",
      "25600/25724 [============================>.] - ETA: 0s - loss: 0.6914 - accuracy: 0.5312\n",
      "Epoch 00056: saving model to checkpoints/weights.56.hdf5\n",
      "25724/25724 [==============================] - 13s 520us/sample - loss: 0.6914 - accuracy: 0.5316\n",
      "Epoch 57/100\n",
      "25696/25724 [============================>.] - ETA: 0s - loss: 0.6914 - accuracy: 0.5316\n",
      "Epoch 00057: saving model to checkpoints/weights.57.hdf5\n",
      "25724/25724 [==============================] - 13s 505us/sample - loss: 0.6914 - accuracy: 0.5316\n",
      "Epoch 58/100\n",
      "25568/25724 [============================>.] - ETA: 0s - loss: 0.6912 - accuracy: 0.5315\n",
      "Epoch 00058: saving model to checkpoints/weights.58.hdf5\n",
      "25724/25724 [==============================] - 20s 770us/sample - loss: 0.6912 - accuracy: 0.5316\n",
      "Epoch 59/100\n",
      "25568/25724 [============================>.] - ETA: 0s - loss: 0.6915 - accuracy: 0.5315\n",
      "Epoch 00059: saving model to checkpoints/weights.59.hdf5\n",
      "25724/25724 [==============================] - 9s 342us/sample - loss: 0.6915 - accuracy: 0.5316\n",
      "Epoch 60/100\n",
      "25568/25724 [============================>.] - ETA: 0s - loss: 0.6914 - accuracy: 0.5316\n",
      "Epoch 00060: saving model to checkpoints/weights.60.hdf5\n",
      "25724/25724 [==============================] - 16s 606us/sample - loss: 0.6914 - accuracy: 0.5316\n",
      "Epoch 61/100\n",
      "25696/25724 [============================>.] - ETA: 0s - loss: 0.6914 - accuracy: 0.5316\n",
      "Epoch 00061: saving model to checkpoints/weights.61.hdf5\n",
      "25724/25724 [==============================] - 14s 545us/sample - loss: 0.6914 - accuracy: 0.5316\n",
      "Epoch 62/100\n",
      "25664/25724 [============================>.] - ETA: 0s - loss: 0.6913 - accuracy: 0.5312\n",
      "Epoch 00062: saving model to checkpoints/weights.62.hdf5\n",
      "25724/25724 [==============================] - 7s 255us/sample - loss: 0.6913 - accuracy: 0.5312\n",
      "Epoch 63/100\n",
      "25568/25724 [============================>.] - ETA: 0s - loss: 0.6914 - accuracy: 0.5314\n",
      "Epoch 00063: saving model to checkpoints/weights.63.hdf5\n",
      "25724/25724 [==============================] - 8s 293us/sample - loss: 0.6914 - accuracy: 0.5316\n",
      "Epoch 64/100\n",
      "25568/25724 [============================>.] - ETA: 0s - loss: 0.6914 - accuracy: 0.5314\n",
      "Epoch 00064: saving model to checkpoints/weights.64.hdf5\n",
      "25724/25724 [==============================] - 11s 445us/sample - loss: 0.6914 - accuracy: 0.5316\n",
      "Epoch 65/100\n",
      "25664/25724 [============================>.] - ETA: 0s - loss: 0.6914 - accuracy: 0.5314\n",
      "Epoch 00065: saving model to checkpoints/weights.65.hdf5\n",
      "25724/25724 [==============================] - 20s 787us/sample - loss: 0.6914 - accuracy: 0.5316\n",
      "Epoch 66/100\n",
      "25600/25724 [============================>.] - ETA: 0s - loss: 0.6914 - accuracy: 0.5314\n",
      "Epoch 00066: saving model to checkpoints/weights.66.hdf5\n",
      "25724/25724 [==============================] - 13s 499us/sample - loss: 0.6914 - accuracy: 0.5316\n",
      "Epoch 67/100\n",
      "25312/25724 [============================>.] - ETA: 0s - loss: 0.6914 - accuracy: 0.5311\n",
      "Epoch 00067: saving model to checkpoints/weights.67.hdf5\n",
      "25724/25724 [==============================] - 7s 280us/sample - loss: 0.6913 - accuracy: 0.5316\n",
      "Epoch 68/100\n",
      "25280/25724 [============================>.] - ETA: 0s - loss: 0.6914 - accuracy: 0.5318\n",
      "Epoch 00068: saving model to checkpoints/weights.68.hdf5\n",
      "25724/25724 [==============================] - 2s 96us/sample - loss: 0.6914 - accuracy: 0.5316\n",
      "Epoch 69/100\n",
      "25184/25724 [============================>.] - ETA: 0s - loss: 0.6913 - accuracy: 0.5318\n",
      "Epoch 00069: saving model to checkpoints/weights.69.hdf5\n",
      "25724/25724 [==============================] - 2s 92us/sample - loss: 0.6913 - accuracy: 0.5316\n",
      "Epoch 70/100\n",
      "25440/25724 [============================>.] - ETA: 0s - loss: 0.6914 - accuracy: 0.5316\n",
      "Epoch 00070: saving model to checkpoints/weights.70.hdf5\n",
      "25724/25724 [==============================] - 2s 91us/sample - loss: 0.6914 - accuracy: 0.5316\n",
      "Epoch 71/100\n",
      "25312/25724 [============================>.] - ETA: 0s - loss: 0.6913 - accuracy: 0.5314\n",
      "Epoch 00071: saving model to checkpoints/weights.71.hdf5\n",
      "25724/25724 [==============================] - 2s 96us/sample - loss: 0.6913 - accuracy: 0.5316\n",
      "Epoch 72/100\n",
      "25600/25724 [============================>.] - ETA: 0s - loss: 0.6914 - accuracy: 0.5315\n",
      "Epoch 00072: saving model to checkpoints/weights.72.hdf5\n",
      "25724/25724 [==============================] - 3s 100us/sample - loss: 0.6914 - accuracy: 0.5316\n",
      "Epoch 73/100\n",
      "25312/25724 [============================>.] - ETA: 0s - loss: 0.6915 - accuracy: 0.5319\n",
      "Epoch 00073: saving model to checkpoints/weights.73.hdf5\n",
      "25724/25724 [==============================] - 3s 98us/sample - loss: 0.6916 - accuracy: 0.5316\n",
      "Epoch 74/100\n",
      "25312/25724 [============================>.] - ETA: 0s - loss: 0.6913 - accuracy: 0.5317\n",
      "Epoch 00074: saving model to checkpoints/weights.74.hdf5\n",
      "25724/25724 [==============================] - 2s 94us/sample - loss: 0.6913 - accuracy: 0.5316\n",
      "Epoch 75/100\n",
      "25696/25724 [============================>.] - ETA: 0s - loss: 0.6913 - accuracy: 0.5309\n",
      "Epoch 00075: saving model to checkpoints/weights.75.hdf5\n",
      "25724/25724 [==============================] - 2s 92us/sample - loss: 0.6913 - accuracy: 0.5309\n",
      "Epoch 76/100\n",
      "25440/25724 [============================>.] - ETA: 0s - loss: 0.6914 - accuracy: 0.5320\n",
      "Epoch 00076: saving model to checkpoints/weights.76.hdf5\n",
      "25724/25724 [==============================] - 2s 91us/sample - loss: 0.6915 - accuracy: 0.5316\n",
      "Epoch 77/100\n",
      "25568/25724 [============================>.] - ETA: 0s - loss: 0.6914 - accuracy: 0.5320\n",
      "Epoch 00077: saving model to checkpoints/weights.77.hdf5\n",
      "25724/25724 [==============================] - 3s 100us/sample - loss: 0.6914 - accuracy: 0.5316\n",
      "Epoch 78/100\n",
      "25568/25724 [============================>.] - ETA: 0s - loss: 0.6914 - accuracy: 0.5312\n",
      "Epoch 00078: saving model to checkpoints/weights.78.hdf5\n",
      "25724/25724 [==============================] - 2s 90us/sample - loss: 0.6914 - accuracy: 0.5316\n",
      "Epoch 79/100\n",
      "25472/25724 [============================>.] - ETA: 0s - loss: 0.6913 - accuracy: 0.5319\n",
      "Epoch 00079: saving model to checkpoints/weights.79.hdf5\n",
      "25724/25724 [==============================] - 2s 91us/sample - loss: 0.6914 - accuracy: 0.5316\n",
      "Epoch 80/100\n",
      "25536/25724 [============================>.] - ETA: 0s - loss: 0.6915 - accuracy: 0.5317\n",
      "Epoch 00080: saving model to checkpoints/weights.80.hdf5\n",
      "25724/25724 [==============================] - 3s 99us/sample - loss: 0.6915 - accuracy: 0.5316\n",
      "Epoch 81/100\n",
      "25312/25724 [============================>.] - ETA: 0s - loss: 0.6913 - accuracy: 0.5319\n",
      "Epoch 00081: saving model to checkpoints/weights.81.hdf5\n",
      "25724/25724 [==============================] - 3s 98us/sample - loss: 0.6913 - accuracy: 0.5316\n",
      "Epoch 82/100\n",
      "25664/25724 [============================>.] - ETA: 0s - loss: 0.6914 - accuracy: 0.5314\n",
      "Epoch 00082: saving model to checkpoints/weights.82.hdf5\n",
      "25724/25724 [==============================] - 2s 92us/sample - loss: 0.6914 - accuracy: 0.5316\n",
      "Epoch 83/100\n",
      "25536/25724 [============================>.] - ETA: 0s - loss: 0.6914 - accuracy: 0.5315\n",
      "Epoch 00083: saving model to checkpoints/weights.83.hdf5\n",
      "25724/25724 [==============================] - 2s 93us/sample - loss: 0.6914 - accuracy: 0.5316\n",
      "Epoch 84/100\n",
      "25504/25724 [============================>.] - ETA: 0s - loss: 0.6915 - accuracy: 0.5312\n",
      "Epoch 00084: saving model to checkpoints/weights.84.hdf5\n",
      "25724/25724 [==============================] - 2s 91us/sample - loss: 0.6914 - accuracy: 0.5316\n",
      "Epoch 85/100\n",
      "25568/25724 [============================>.] - ETA: 0s - loss: 0.6914 - accuracy: 0.5316\n",
      "Epoch 00085: saving model to checkpoints/weights.85.hdf5\n",
      "25724/25724 [==============================] - 3s 100us/sample - loss: 0.6914 - accuracy: 0.5316\n",
      "Epoch 86/100\n",
      "25600/25724 [============================>.] - ETA: 0s - loss: 0.6912 - accuracy: 0.5302\n",
      "Epoch 00086: saving model to checkpoints/weights.86.hdf5\n",
      "25724/25724 [==============================] - 3s 99us/sample - loss: 0.6913 - accuracy: 0.5302\n",
      "Epoch 87/100\n",
      "25504/25724 [============================>.] - ETA: 0s - loss: 0.6915 - accuracy: 0.5316\n",
      "Epoch 00087: saving model to checkpoints/weights.87.hdf5\n",
      "25724/25724 [==============================] - 2s 93us/sample - loss: 0.6915 - accuracy: 0.5316\n",
      "Epoch 88/100\n",
      "25440/25724 [============================>.] - ETA: 0s - loss: 0.6914 - accuracy: 0.5314\n",
      "Epoch 00088: saving model to checkpoints/weights.88.hdf5\n",
      "25724/25724 [==============================] - 2s 91us/sample - loss: 0.6913 - accuracy: 0.5316\n",
      "Epoch 89/100\n",
      "25600/25724 [============================>.] - ETA: 0s - loss: 0.6914 - accuracy: 0.5316\n",
      "Epoch 00089: saving model to checkpoints/weights.89.hdf5\n",
      "25724/25724 [==============================] - 2s 92us/sample - loss: 0.6914 - accuracy: 0.5316\n",
      "Epoch 90/100\n",
      "25472/25724 [============================>.] - ETA: 0s - loss: 0.6913 - accuracy: 0.5314\n",
      "Epoch 00090: saving model to checkpoints/weights.90.hdf5\n",
      "25724/25724 [==============================] - 2s 91us/sample - loss: 0.6913 - accuracy: 0.5316\n",
      "Epoch 91/100\n",
      "25504/25724 [============================>.] - ETA: 0s - loss: 0.6914 - accuracy: 0.5313\n",
      "Epoch 00091: saving model to checkpoints/weights.91.hdf5\n",
      "25724/25724 [==============================] - 2s 91us/sample - loss: 0.6913 - accuracy: 0.5316\n",
      "Epoch 92/100\n",
      "25280/25724 [============================>.] - ETA: 0s - loss: 0.6914 - accuracy: 0.5316\n",
      "Epoch 00092: saving model to checkpoints/weights.92.hdf5\n",
      "25724/25724 [==============================] - 2s 94us/sample - loss: 0.6914 - accuracy: 0.5316\n",
      "Epoch 93/100\n",
      "25696/25724 [============================>.] - ETA: 0s - loss: 0.6913 - accuracy: 0.5314\n",
      "Epoch 00093: saving model to checkpoints/weights.93.hdf5\n",
      "25724/25724 [==============================] - 5s 210us/sample - loss: 0.6913 - accuracy: 0.5316\n",
      "Epoch 94/100\n",
      "25696/25724 [============================>.] - ETA: 0s - loss: 0.6913 - accuracy: 0.5315\n",
      "Epoch 00094: saving model to checkpoints/weights.94.hdf5\n",
      "25724/25724 [==============================] - 6s 237us/sample - loss: 0.6913 - accuracy: 0.5316\n",
      "Epoch 95/100\n",
      "25696/25724 [============================>.] - ETA: 0s - loss: 0.6913 - accuracy: 0.5318\n",
      "Epoch 00095: saving model to checkpoints/weights.95.hdf5\n",
      "25724/25724 [==============================] - 16s 639us/sample - loss: 0.6913 - accuracy: 0.5316\n",
      "Epoch 96/100\n",
      "25696/25724 [============================>.] - ETA: 0s - loss: 0.6914 - accuracy: 0.5314\n",
      "Epoch 00096: saving model to checkpoints/weights.96.hdf5\n",
      "25724/25724 [==============================] - 15s 579us/sample - loss: 0.6914 - accuracy: 0.5316\n",
      "Epoch 97/100\n",
      "25568/25724 [============================>.] - ETA: 0s - loss: 0.6914 - accuracy: 0.5316\n",
      "Epoch 00097: saving model to checkpoints/weights.97.hdf5\n",
      "25724/25724 [==============================] - 15s 586us/sample - loss: 0.6914 - accuracy: 0.5316\n",
      "Epoch 98/100\n",
      "25632/25724 [============================>.] - ETA: 0s - loss: 0.6914 - accuracy: 0.5316\n",
      "Epoch 00098: saving model to checkpoints/weights.98.hdf5\n",
      "25724/25724 [==============================] - 18s 714us/sample - loss: 0.6914 - accuracy: 0.5316\n",
      "Epoch 99/100\n",
      "25696/25724 [============================>.] - ETA: 0s - loss: 0.6915 - accuracy: 0.5315\n",
      "Epoch 00099: saving model to checkpoints/weights.99.hdf5\n",
      "25724/25724 [==============================] - 17s 673us/sample - loss: 0.6915 - accuracy: 0.5316\n",
      "Epoch 100/100\n",
      "25376/25724 [============================>.] - ETA: 0s - loss: 0.6914 - accuracy: 0.5313\n",
      "Epoch 00100: saving model to checkpoints/weights.100.hdf5\n",
      "25724/25724 [==============================] - 3s 129us/sample - loss: 0.6914 - accuracy: 0.5316\n"
     ]
    }
   ],
   "source": [
    "# Train the model\n",
    "fit_model = nn.fit(X_train,y_train,epochs=100, callbacks=[cp_callback])"
   ]
  },
  {
   "cell_type": "code",
   "execution_count": 41,
   "metadata": {},
   "outputs": [
    {
     "data": {
      "text/plain": [
       "<AxesSubplot:>"
      ]
     },
     "execution_count": 41,
     "metadata": {},
     "output_type": "execute_result"
    },
    {
     "data": {
      "image/png": "[encoded data removed]",
      "text/plain": [
       "<Figure size 432x288 with 1 Axes>"
      ]
     },
     "metadata": {},
     "output_type": "display_data"
    }
   ],
   "source": [
    "# Create a DataFrame containing training history\n",
    "history_df = pd.DataFrame(fit_model.history, index=range(1,len(fit_model.history[\"loss\"])+1))\n",
    "\n",
    "# Plot the loss\n",
    "history_df.plot(y=\"loss\")"
   ]
  },
  {
   "cell_type": "code",
   "execution_count": 42,
   "metadata": {},
   "outputs": [
    {
     "data": {
      "text/plain": [
       "<AxesSubplot:>"
      ]
     },
     "execution_count": 42,
     "metadata": {},
     "output_type": "execute_result"
    },
    {
     "data": {
      "image/png": "[encoded data removed]",
      "text/plain": [
       "<Figure size 432x288 with 1 Axes>"
      ]
     },
     "metadata": {},
     "output_type": "display_data"
    }
   ],
   "source": [
    "# Plot the accuracy\n",
    "history_df.plot(y=\"accuracy\")"
   ]
  },
  {
   "cell_type": "code",
   "execution_count": 43,
   "metadata": {},
   "outputs": [
    {
     "name": "stdout",
     "output_type": "stream",
     "text": [
      "8575/1 - 1s - loss: 2.4983 - accuracy: 0.5342\n",
      "Loss: 1.9709230435485394, Accuracy: 0.5342274308204651\n"
     ]
    }
   ],
   "source": [
    "# Evaluate the model using the test data\n",
    "model_loss, model_accuracy = nn.evaluate(X_test_scaled,y_test,verbose=2)\n",
    "print(f\"Loss: {model_loss}, Accuracy: {model_accuracy}\")"
   ]
  },
  {
   "cell_type": "code",
   "execution_count": 46,
   "metadata": {},
   "outputs": [],
   "source": [
    "# Export our model to HDF5 file\n",
    "nn.save(\"./Trained Models/AlphabetSoupCharity.h5\")"
   ]
  },
  {
   "cell_type": "code",
   "execution_count": null,
   "metadata": {},
   "outputs": [],
   "source": []
  }
 ],
 "metadata": {
  "kernelspec": {
   "display_name": "mlenv",
   "language": "python",
   "name": "mlenv"
  },
  "language_info": {
   "codemirror_mode": {
    "name": "ipython",
    "version": 3
   },
   "file_extension": ".py",
   "mimetype": "text/x-python",
   "name": "python",
   "nbconvert_exporter": "python",
   "pygments_lexer": "ipython3",
   "version": "3.7.11"
  }
 },
 "nbformat": 4,
 "nbformat_minor": 4
}
